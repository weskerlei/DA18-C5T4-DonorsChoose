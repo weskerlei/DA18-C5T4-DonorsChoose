{
 "cells": [
  {
   "cell_type": "markdown",
   "metadata": {},
   "source": [
    "# Motivation/Background\n",
    "DonorsChoose.org is a non profit organization that raises funds for America's public school by directly connecting donors to projects posted by teachers on the platform. As of Jan 2018, DonorsChoose.org has funded over 1.1 million classroom requests through the support of 3 million donors. The majority of donors were making their first-ever donation to a public school. If DonorsChoose.org can motivate even a fraction of those donors to make another donation, that could have a huge impact on the number of classroom requests fulfilled.\n",
    "\n",
    "The goal of this project is to enable DonorsChoose.org to build targeted email campaigns recommending specific classroom requests to existing donors who are more likely to donate."
   ]
  },
  {
   "cell_type": "markdown",
   "metadata": {
    "toc": true
   },
   "source": [
    "<h1>Table of Contents<span class=\"tocSkip\"></span></h1>\n",
    "<div class=\"toc\"><ul class=\"toc-item\"><li><span><a href=\"#Define-questions-to-answer-from-EDA:\" data-toc-modified-id=\"Define-questions-to-answer-from-EDA:-1\"><span class=\"toc-item-num\">1&nbsp;&nbsp;</span>Define questions to answer from EDA:</a></span></li><li><span><a href=\"#Define-approach-to-build-recommending-system-for-new-projects-to-existing-donors\" data-toc-modified-id=\"Define-approach-to-build-recommending-system-for-new-projects-to-existing-donors-2\"><span class=\"toc-item-num\">2&nbsp;&nbsp;</span>Define approach to build recommending system for new projects to existing donors</a></span></li><li><span><a href=\"#Load-libraries\" data-toc-modified-id=\"Load-libraries-3\"><span class=\"toc-item-num\">3&nbsp;&nbsp;</span>Load libraries</a></span></li><li><span><a href=\"#EDA-Donors\" data-toc-modified-id=\"EDA-Donors-4\"><span class=\"toc-item-num\">4&nbsp;&nbsp;</span>EDA-Donors</a></span><ul class=\"toc-item\"><li><span><a href=\"#load-donor-dataset\" data-toc-modified-id=\"load-donor-dataset-4.1\"><span class=\"toc-item-num\">4.1&nbsp;&nbsp;</span>load donor dataset</a></span></li><li><span><a href=\"#Donor-by-States\" data-toc-modified-id=\"Donor-by-States-4.2\"><span class=\"toc-item-num\">4.2&nbsp;&nbsp;</span>Donor by States</a></span></li><li><span><a href=\"#Donor-by-cities\" data-toc-modified-id=\"Donor-by-cities-4.3\"><span class=\"toc-item-num\">4.3&nbsp;&nbsp;</span>Donor by cities</a></span></li><li><span><a href=\"#Teacher-donors\" data-toc-modified-id=\"Teacher-donors-4.4\"><span class=\"toc-item-num\">4.4&nbsp;&nbsp;</span>Teacher donors</a></span></li></ul></li><li><span><a href=\"#EDA-Donations\" data-toc-modified-id=\"EDA-Donations-5\"><span class=\"toc-item-num\">5&nbsp;&nbsp;</span>EDA-Donations</a></span><ul class=\"toc-item\"><li><span><a href=\"#Load-donation-dataset\" data-toc-modified-id=\"Load-donation-dataset-5.1\"><span class=\"toc-item-num\">5.1&nbsp;&nbsp;</span>Load donation dataset</a></span></li><li><span><a href=\"#Donation-amount-distribution\" data-toc-modified-id=\"Donation-amount-distribution-5.2\"><span class=\"toc-item-num\">5.2&nbsp;&nbsp;</span>Donation amount distribution</a></span></li><li><span><a href=\"#Compare-donation-distribution-among-donors-w/-and-w/o-optional-donation\" data-toc-modified-id=\"Compare-donation-distribution-among-donors-w/-and-w/o-optional-donation-5.3\"><span class=\"toc-item-num\">5.3&nbsp;&nbsp;</span>Compare donation distribution among donors w/ and w/o optional donation</a></span></li><li><span><a href=\"#Number-of-Donations-and-Amount-by-Teachers/Non-Teachers\" data-toc-modified-id=\"Number-of-Donations-and-Amount-by-Teachers/Non-Teachers-5.4\"><span class=\"toc-item-num\">5.4&nbsp;&nbsp;</span>Number of Donations and Amount by Teachers/Non-Teachers</a></span></li><li><span><a href=\"#Optional-donations-among-teachers/non-teachers\" data-toc-modified-id=\"Optional-donations-among-teachers/non-teachers-5.5\"><span class=\"toc-item-num\">5.5&nbsp;&nbsp;</span>Optional donations among teachers/non-teachers</a></span></li><li><span><a href=\"#Donations-received-by-year\" data-toc-modified-id=\"Donations-received-by-year-5.6\"><span class=\"toc-item-num\">5.6&nbsp;&nbsp;</span>Donations received by year</a></span></li></ul></li><li><span><a href=\"#EDA-Projects\" data-toc-modified-id=\"EDA-Projects-6\"><span class=\"toc-item-num\">6&nbsp;&nbsp;</span>EDA-Projects</a></span><ul class=\"toc-item\"><li><span><a href=\"#overview-of-features\" data-toc-modified-id=\"overview-of-features-6.1\"><span class=\"toc-item-num\">6.1&nbsp;&nbsp;</span>overview of features</a></span></li><li><span><a href=\"#Distribution-of-project-cost\" data-toc-modified-id=\"Distribution-of-project-cost-6.2\"><span class=\"toc-item-num\">6.2&nbsp;&nbsp;</span>Distribution of project cost</a></span></li><li><span><a href=\"#Average-project-cost-by-resource-categories\" data-toc-modified-id=\"Average-project-cost-by-resource-categories-6.3\"><span class=\"toc-item-num\">6.3&nbsp;&nbsp;</span>Average project cost by resource categories</a></span></li><li><span><a href=\"#Distrbution-of-project-subject-and-resource-categories\" data-toc-modified-id=\"Distrbution-of-project-subject-and-resource-categories-6.4\"><span class=\"toc-item-num\">6.4&nbsp;&nbsp;</span>Distrbution of project subject and resource categories</a></span></li><li><span><a href=\"#Characteristics-of-fully-funded-projects\" data-toc-modified-id=\"Characteristics-of-fully-funded-projects-6.5\"><span class=\"toc-item-num\">6.5&nbsp;&nbsp;</span>Characteristics of fully funded projects</a></span><ul class=\"toc-item\"><li><span><a href=\"#Project-cost\" data-toc-modified-id=\"Project-cost-6.5.1\"><span class=\"toc-item-num\">6.5.1&nbsp;&nbsp;</span>Project cost</a></span></li><li><span><a href=\"#Project-and-resources-categories\" data-toc-modified-id=\"Project-and-resources-categories-6.5.2\"><span class=\"toc-item-num\">6.5.2&nbsp;&nbsp;</span>Project and resources categories</a></span></li><li><span><a href=\"#Project-grades\" data-toc-modified-id=\"Project-grades-6.5.3\"><span class=\"toc-item-num\">6.5.3&nbsp;&nbsp;</span>Project grades</a></span></li></ul></li><li><span><a href=\"#Projects-and-school-and-donor-info\" data-toc-modified-id=\"Projects-and-school-and-donor-info-6.6\"><span class=\"toc-item-num\">6.6&nbsp;&nbsp;</span>Projects and school and donor info</a></span><ul class=\"toc-item\"><li><span><a href=\"#apphend-location-info-of-donor-and-school\" data-toc-modified-id=\"apphend-location-info-of-donor-and-school-6.6.1\"><span class=\"toc-item-num\">6.6.1&nbsp;&nbsp;</span>apphend location info of donor and school</a></span></li><li><span><a href=\"#Percent-of-donations-from-same-school-city-or-same-school-states\" data-toc-modified-id=\"Percent-of-donations-from-same-school-city-or-same-school-states-6.6.2\"><span class=\"toc-item-num\">6.6.2&nbsp;&nbsp;</span>Percent of donations from same school city or same school states</a></span></li><li><span><a href=\"#Percent-of-donations-from-same-school-city-or-same-school-states-for-funded-projects\" data-toc-modified-id=\"Percent-of-donations-from-same-school-city-or-same-school-states-for-funded-projects-6.6.3\"><span class=\"toc-item-num\">6.6.3&nbsp;&nbsp;</span>Percent of donations from same school city or same school states for funded projects</a></span></li><li><span><a href=\"#Percent-of-donations-from-same-school-city-or-same-school-states-for-expired-projects\" data-toc-modified-id=\"Percent-of-donations-from-same-school-city-or-same-school-states-for-expired-projects-6.6.4\"><span class=\"toc-item-num\">6.6.4&nbsp;&nbsp;</span>Percent of donations from same school city or same school states for expired projects</a></span></li></ul></li></ul></li><li><span><a href=\"#Summary-of-insights-derived-from-EDA\" data-toc-modified-id=\"Summary-of-insights-derived-from-EDA-7\"><span class=\"toc-item-num\">7&nbsp;&nbsp;</span>Summary of insights derived from EDA</a></span></li><li><span><a href=\"#Preprocessing-on-Dataset\" data-toc-modified-id=\"Preprocessing-on-Dataset-8\"><span class=\"toc-item-num\">8&nbsp;&nbsp;</span>Preprocessing on Dataset</a></span><ul class=\"toc-item\"><li><span><a href=\"#Create-donor-and-project-interaction-matrix\" data-toc-modified-id=\"Create-donor-and-project-interaction-matrix-8.1\"><span class=\"toc-item-num\">8.1&nbsp;&nbsp;</span>Create donor and project interaction matrix</a></span></li><li><span><a href=\"#Create-donor-and-project-embedding\" data-toc-modified-id=\"Create-donor-and-project-embedding-8.2\"><span class=\"toc-item-num\">8.2&nbsp;&nbsp;</span>Create donor and project embedding</a></span></li></ul></li><li><span><a href=\"#Create-model\" data-toc-modified-id=\"Create-model-9\"><span class=\"toc-item-num\">9&nbsp;&nbsp;</span>Create model</a></span></li><li><span><a href=\"#Train-model\" data-toc-modified-id=\"Train-model-10\"><span class=\"toc-item-num\">10&nbsp;&nbsp;</span>Train model</a></span></li><li><span><a href=\"#Generate-donor-recommendations-for-projects\" data-toc-modified-id=\"Generate-donor-recommendations-for-projects-11\"><span class=\"toc-item-num\">11&nbsp;&nbsp;</span>Generate donor recommendations for projects</a></span><ul class=\"toc-item\"><li><span><a href=\"#Pick-a-sample-project-to-predict-potential-donors\" data-toc-modified-id=\"Pick-a-sample-project-to-predict-potential-donors-11.1\"><span class=\"toc-item-num\">11.1&nbsp;&nbsp;</span>Pick a sample project to predict potential donors</a></span></li><li><span><a href=\"#Summary\" data-toc-modified-id=\"Summary-11.2\"><span class=\"toc-item-num\">11.2&nbsp;&nbsp;</span>Summary</a></span></li></ul></li></ul></div>"
   ]
  },
  {
   "cell_type": "markdown",
   "metadata": {},
   "source": [
    "## Define questions to answer from EDA:\n",
    "1)\tIs it true that donors are more likely donating to local projects?\n",
    "\n",
    "2)\tWhat is the difference between teacher and non-teacher donors in number and amount of donations?\n",
    "\n",
    "3)\tWhat are the characteristics of projects that are fully funded (type of resources requested, grade levels, project cost, etc.)?\n",
    "\n",
    "4)\tWhat is the geographical or demographical information of donors and schools receiving donations?\n",
    "\n",
    "5)\tWhat is the seasonal pattern of donations?\n",
    "\n",
    "\n"
   ]
  },
  {
   "cell_type": "markdown",
   "metadata": {},
   "source": [
    "## Define approach to build recommending system for new projects to existing donors\n",
    "1) prepare master dataframe\n",
    "\n",
    "2) generate donor-projects embeddings\n",
    "\n",
    "3) generate interaction scores between donor-projects\n",
    "\n",
    "4) train deep nets to learn parameters\n",
    "\n",
    "5) with new pair of donor-projects, calculate interaction scores to recommend"
   ]
  },
  {
   "cell_type": "markdown",
   "metadata": {},
   "source": [
    "## Load libraries"
   ]
  },
  {
   "cell_type": "code",
   "execution_count": 1,
   "metadata": {},
   "outputs": [
    {
     "name": "stderr",
     "output_type": "stream",
     "text": [
      "C:\\Users\\weskerlei\\Anaconda3\\lib\\site-packages\\h5py\\__init__.py:36: FutureWarning:\n",
      "\n",
      "Conversion of the second argument of issubdtype from `float` to `np.floating` is deprecated. In future, it will be treated as `np.float64 == np.dtype(float).type`.\n",
      "\n",
      "Using TensorFlow backend.\n"
     ]
    }
   ],
   "source": [
    "#%% import libraries\n",
    "import numpy as np\n",
    "import pandas as pd\n",
    "from plotly.offline import init_notebook_mode, iplot\n",
    "from wordcloud import WordCloud\n",
    "import plotly.graph_objs as go\n",
    "import matplotlib.pyplot as plt\n",
    "import plotly.plotly as py\n",
    "from plotly import tools\n",
    "from datetime import date\n",
    "import seaborn as sns\n",
    "import random\n",
    "from collections import Counter \n",
    "from tqdm import tqdm \n",
    "import warnings, math\n",
    "import gc\n",
    "\n",
    "#%% keras modules\n",
    "from keras.callbacks import Callback, EarlyStopping, ModelCheckpoint\n",
    "from keras.layers import Embedding, Reshape, Dropout, Dense, Input, Concatenate\n",
    "from keras.models import Sequential, Model\n",
    "\n",
    "#%%  sklearn modules \n",
    "from sklearn.feature_extraction.text import TfidfVectorizer\n",
    "from sklearn.metrics.pairwise import linear_kernel\n",
    "from sklearn.metrics.pairwise import cosine_similarity\n",
    "from sklearn.cluster import KMeans \n",
    "from sklearn import preprocessing\n",
    "\n",
    "warnings.filterwarnings('ignore')\n"
   ]
  },
  {
   "cell_type": "markdown",
   "metadata": {},
   "source": [
    "## EDA-Donors"
   ]
  },
  {
   "cell_type": "markdown",
   "metadata": {},
   "source": [
    "### load donor dataset"
   ]
  },
  {
   "cell_type": "code",
   "execution_count": 2,
   "metadata": {},
   "outputs": [],
   "source": [
    "donors_raw = pd.read_csv(\"Donors.csv\", dtype = {\"Donor Zip\": object})\n",
    "donors_raw = donors_raw.drop(['Donor Zip'], axis =1)"
   ]
  },
  {
   "cell_type": "code",
   "execution_count": 4,
   "metadata": {},
   "outputs": [
    {
     "name": "stdout",
     "output_type": "stream",
     "text": [
      "Donor ID            object\n",
      "Donor City          object\n",
      "Donor State         object\n",
      "Donor Is Teacher    object\n",
      "dtype: object\n"
     ]
    }
   ],
   "source": [
    "## removed donor zip since it only contains first 3 digits\n",
    "print(donors_raw.dtypes)"
   ]
  },
  {
   "cell_type": "code",
   "execution_count": 5,
   "metadata": {},
   "outputs": [
    {
     "data": {
      "text/html": [
       "<div>\n",
       "<style scoped>\n",
       "    .dataframe tbody tr th:only-of-type {\n",
       "        vertical-align: middle;\n",
       "    }\n",
       "\n",
       "    .dataframe tbody tr th {\n",
       "        vertical-align: top;\n",
       "    }\n",
       "\n",
       "    .dataframe thead th {\n",
       "        text-align: right;\n",
       "    }\n",
       "</style>\n",
       "<table border=\"1\" class=\"dataframe\">\n",
       "  <thead>\n",
       "    <tr style=\"text-align: right;\">\n",
       "      <th></th>\n",
       "      <th>Donor ID</th>\n",
       "      <th>Donor City</th>\n",
       "      <th>Donor State</th>\n",
       "      <th>Donor Is Teacher</th>\n",
       "    </tr>\n",
       "  </thead>\n",
       "  <tbody>\n",
       "    <tr>\n",
       "      <th>count</th>\n",
       "      <td>2122640</td>\n",
       "      <td>1909543</td>\n",
       "      <td>2122640</td>\n",
       "      <td>2122640</td>\n",
       "    </tr>\n",
       "    <tr>\n",
       "      <th>unique</th>\n",
       "      <td>2122640</td>\n",
       "      <td>15204</td>\n",
       "      <td>52</td>\n",
       "      <td>2</td>\n",
       "    </tr>\n",
       "    <tr>\n",
       "      <th>top</th>\n",
       "      <td>927f4c9a9076d165372514f81e3cc7a9</td>\n",
       "      <td>Chicago</td>\n",
       "      <td>California</td>\n",
       "      <td>No</td>\n",
       "    </tr>\n",
       "    <tr>\n",
       "      <th>freq</th>\n",
       "      <td>1</td>\n",
       "      <td>34352</td>\n",
       "      <td>294695</td>\n",
       "      <td>1910355</td>\n",
       "    </tr>\n",
       "  </tbody>\n",
       "</table>\n",
       "</div>"
      ],
      "text/plain": [
       "                                Donor ID Donor City Donor State  \\\n",
       "count                            2122640    1909543     2122640   \n",
       "unique                           2122640      15204          52   \n",
       "top     927f4c9a9076d165372514f81e3cc7a9    Chicago  California   \n",
       "freq                                   1      34352      294695   \n",
       "\n",
       "       Donor Is Teacher  \n",
       "count           2122640  \n",
       "unique                2  \n",
       "top                  No  \n",
       "freq            1910355  "
      ]
     },
     "execution_count": 5,
     "metadata": {},
     "output_type": "execute_result"
    }
   ],
   "source": [
    "## donor by state\n",
    "donors_raw.describe()"
   ]
  },
  {
   "cell_type": "markdown",
   "metadata": {},
   "source": [
    "### Donor by States"
   ]
  },
  {
   "cell_type": "code",
   "execution_count": 6,
   "metadata": {},
   "outputs": [
    {
     "data": {
      "image/png": "[encoded data removed]",
      "text/plain": [
       "<Figure size 720x360 with 2 Axes>"
      ]
     },
     "metadata": {},
     "output_type": "display_data"
    }
   ],
   "source": [
    "## visualzie donor by states\n",
    "d_cnt_St=pd.Series(donors_raw[\"Donor State\"]).value_counts(ascending = True)\n",
    "\n",
    "plt.figure(figsize = (10,5))\n",
    "plt.subplot(1,2,1)\n",
    "fig1=d_cnt_St[42:52].plot(\"barh\", title = \"States with most donors\")\n",
    "fig1.set_xlabel(\"Number of donors\")\n",
    "plt.subplot(1,2,2)\n",
    "fig2=d_cnt_St[0:10].plot(\"barh\", title = \"States with least donors\")\n",
    "fig2.set_xlabel(\"Number of donors\")\n",
    "plt.tight_layout()"
   ]
  },
  {
   "cell_type": "markdown",
   "metadata": {},
   "source": [
    "California has most number of donors\n",
    "these numbers are not adjusted based on population of the states"
   ]
  },
  {
   "cell_type": "markdown",
   "metadata": {},
   "source": [
    "### Donor by cities"
   ]
  },
  {
   "cell_type": "code",
   "execution_count": 3,
   "metadata": {},
   "outputs": [
    {
     "data": {
      "text/plain": [
       "Text(0.5,0,'Number of donors')"
      ]
     },
     "execution_count": 3,
     "metadata": {},
     "output_type": "execute_result"
    },
    {
     "data": {
      "image/png": "[encoded data removed]",
      "text/plain": [
       "<Figure size 576x432 with 1 Axes>"
      ]
     },
     "metadata": {},
     "output_type": "display_data"
    }
   ],
   "source": [
    "## visualzie donor by cities\n",
    "d_cnt_Ct=pd.Series(donors_raw[\"Donor City\"]).value_counts(ascending = True)\n",
    "\n",
    "plt.figure(figsize = (8,6))\n",
    "fig1=d_cnt_Ct[15194:15204].plot(\"barh\", title = \"Cities with most donors\")\n",
    "fig1.set_xlabel(\"Number of donors\")"
   ]
  },
  {
   "cell_type": "markdown",
   "metadata": {},
   "source": [
    "California has a lot of cities with significant contribution to the total number of donors "
   ]
  },
  {
   "cell_type": "markdown",
   "metadata": {},
   "source": [
    "### Teacher donors"
   ]
  },
  {
   "cell_type": "code",
   "execution_count": 186,
   "metadata": {},
   "outputs": [
    {
     "data": {
      "text/plain": [
       "No     1910355\n",
       "Yes     212285\n",
       "Name: Donor Is Teacher, dtype: int64"
      ]
     },
     "execution_count": 186,
     "metadata": {},
     "output_type": "execute_result"
    }
   ],
   "source": [
    "cts = pd.Series(donors_raw[\"Donor Is Teacher\"]).value_counts()\n",
    "cts"
   ]
  },
  {
   "cell_type": "code",
   "execution_count": 208,
   "metadata": {
    "scrolled": true
   },
   "outputs": [
    {
     "data": {
      "text/plain": [
       "([<matplotlib.patches.Wedge at 0x21ea7f1cf60>,\n",
       "  <matplotlib.patches.Wedge at 0x21ea7f25710>],\n",
       " [Text(-1.04615,0.339951,'No'), Text(1.04615,-0.339951,'Yes')],\n",
       " [Text(-0.570628,0.185428,'90%'), Text(0.570628,-0.185428,'10%')])"
      ]
     },
     "execution_count": 208,
     "metadata": {},
     "output_type": "execute_result"
    },
    {
     "data": {
      "image/png": "[encoded data removed]",
      "text/plain": [
       "<Figure size 432x288 with 1 Axes>"
      ]
     },
     "metadata": {},
     "output_type": "display_data"
    }
   ],
   "source": [
    "plt.pie(cts, labels = cts.keys(), autopct = '%1.0f%%', colors = (\"#195aa3\", \"#ed7e07\"))"
   ]
  },
  {
   "cell_type": "markdown",
   "metadata": {},
   "source": [
    "10% of donors are teachers"
   ]
  },
  {
   "cell_type": "markdown",
   "metadata": {},
   "source": [
    "## EDA-Donations"
   ]
  },
  {
   "cell_type": "markdown",
   "metadata": {},
   "source": [
    "### Load donation dataset"
   ]
  },
  {
   "cell_type": "code",
   "execution_count": 3,
   "metadata": {},
   "outputs": [],
   "source": [
    "donations_raw = pd.read_csv(\"Donations.csv\", dtype = {\"Donation Received Date\": str}, parse_dates = [\"Donation Received Date\"])"
   ]
  },
  {
   "cell_type": "code",
   "execution_count": 9,
   "metadata": {},
   "outputs": [
    {
     "data": {
      "text/html": [
       "<div>\n",
       "<style scoped>\n",
       "    .dataframe tbody tr th:only-of-type {\n",
       "        vertical-align: middle;\n",
       "    }\n",
       "\n",
       "    .dataframe tbody tr th {\n",
       "        vertical-align: top;\n",
       "    }\n",
       "\n",
       "    .dataframe thead th {\n",
       "        text-align: right;\n",
       "    }\n",
       "</style>\n",
       "<table border=\"1\" class=\"dataframe\">\n",
       "  <thead>\n",
       "    <tr style=\"text-align: right;\">\n",
       "      <th></th>\n",
       "      <th>Project ID</th>\n",
       "      <th>Donation ID</th>\n",
       "      <th>Donor ID</th>\n",
       "      <th>Donation Included Optional Donation</th>\n",
       "      <th>Donation Amount</th>\n",
       "      <th>Donor Cart Sequence</th>\n",
       "      <th>Donation Received Date</th>\n",
       "    </tr>\n",
       "  </thead>\n",
       "  <tbody>\n",
       "    <tr>\n",
       "      <th>0</th>\n",
       "      <td>000009891526c0ade7180f8423792063</td>\n",
       "      <td>688729120858666221208529ee3fc18e</td>\n",
       "      <td>1f4b5b6e68445c6c4a0509b3aca93f38</td>\n",
       "      <td>No</td>\n",
       "      <td>178.37</td>\n",
       "      <td>11</td>\n",
       "      <td>2016-08-23 13:15:57</td>\n",
       "    </tr>\n",
       "    <tr>\n",
       "      <th>1</th>\n",
       "      <td>000009891526c0ade7180f8423792063</td>\n",
       "      <td>dcf1071da3aa3561f91ac689d1f73dee</td>\n",
       "      <td>4aaab6d244bf3599682239ed5591af8a</td>\n",
       "      <td>Yes</td>\n",
       "      <td>25.00</td>\n",
       "      <td>2</td>\n",
       "      <td>2016-06-06 20:05:23</td>\n",
       "    </tr>\n",
       "    <tr>\n",
       "      <th>2</th>\n",
       "      <td>000009891526c0ade7180f8423792063</td>\n",
       "      <td>18a234b9d1e538c431761d521ea7799d</td>\n",
       "      <td>0b0765dc9c759adc48a07688ba25e94e</td>\n",
       "      <td>Yes</td>\n",
       "      <td>20.00</td>\n",
       "      <td>3</td>\n",
       "      <td>2016-06-06 14:08:46</td>\n",
       "    </tr>\n",
       "    <tr>\n",
       "      <th>3</th>\n",
       "      <td>000009891526c0ade7180f8423792063</td>\n",
       "      <td>38d2744bf9138b0b57ed581c76c0e2da</td>\n",
       "      <td>377944ad61f72d800b25ec1862aec363</td>\n",
       "      <td>Yes</td>\n",
       "      <td>25.00</td>\n",
       "      <td>1</td>\n",
       "      <td>2016-05-15 10:23:04</td>\n",
       "    </tr>\n",
       "    <tr>\n",
       "      <th>4</th>\n",
       "      <td>000009891526c0ade7180f8423792063</td>\n",
       "      <td>5a032791e31167a70206bfb86fb60035</td>\n",
       "      <td>6d5b22d39e68c656071a842732c63a0c</td>\n",
       "      <td>Yes</td>\n",
       "      <td>25.00</td>\n",
       "      <td>2</td>\n",
       "      <td>2016-05-17 01:23:38</td>\n",
       "    </tr>\n",
       "  </tbody>\n",
       "</table>\n",
       "</div>"
      ],
      "text/plain": [
       "                         Project ID                       Donation ID  \\\n",
       "0  000009891526c0ade7180f8423792063  688729120858666221208529ee3fc18e   \n",
       "1  000009891526c0ade7180f8423792063  dcf1071da3aa3561f91ac689d1f73dee   \n",
       "2  000009891526c0ade7180f8423792063  18a234b9d1e538c431761d521ea7799d   \n",
       "3  000009891526c0ade7180f8423792063  38d2744bf9138b0b57ed581c76c0e2da   \n",
       "4  000009891526c0ade7180f8423792063  5a032791e31167a70206bfb86fb60035   \n",
       "\n",
       "                           Donor ID Donation Included Optional Donation  \\\n",
       "0  1f4b5b6e68445c6c4a0509b3aca93f38                                  No   \n",
       "1  4aaab6d244bf3599682239ed5591af8a                                 Yes   \n",
       "2  0b0765dc9c759adc48a07688ba25e94e                                 Yes   \n",
       "3  377944ad61f72d800b25ec1862aec363                                 Yes   \n",
       "4  6d5b22d39e68c656071a842732c63a0c                                 Yes   \n",
       "\n",
       "   Donation Amount  Donor Cart Sequence Donation Received Date  \n",
       "0           178.37                   11    2016-08-23 13:15:57  \n",
       "1            25.00                    2    2016-06-06 20:05:23  \n",
       "2            20.00                    3    2016-06-06 14:08:46  \n",
       "3            25.00                    1    2016-05-15 10:23:04  \n",
       "4            25.00                    2    2016-05-17 01:23:38  "
      ]
     },
     "execution_count": 9,
     "metadata": {},
     "output_type": "execute_result"
    }
   ],
   "source": [
    "## examine donations dataset\n",
    "donations_raw.head()"
   ]
  },
  {
   "cell_type": "code",
   "execution_count": 7,
   "metadata": {},
   "outputs": [
    {
     "data": {
      "text/plain": [
       "Project ID                                     object\n",
       "Donation ID                                    object\n",
       "Donor ID                                       object\n",
       "Donation Included Optional Donation            object\n",
       "Donation Amount                               float64\n",
       "Donor Cart Sequence                             int64\n",
       "Donation Received Date                 datetime64[ns]\n",
       "dtype: object"
      ]
     },
     "execution_count": 7,
     "metadata": {},
     "output_type": "execute_result"
    }
   ],
   "source": [
    "## convert donation received date as \n",
    "donations_raw.dtypes"
   ]
  },
  {
   "cell_type": "markdown",
   "metadata": {},
   "source": [
    "### Donation amount distribution"
   ]
  },
  {
   "cell_type": "code",
   "execution_count": 22,
   "metadata": {},
   "outputs": [
    {
     "data": {
      "image/png": "[encoded data removed]",
      "text/plain": [
       "<Figure size 1152x720 with 1 Axes>"
      ]
     },
     "metadata": {},
     "output_type": "display_data"
    }
   ],
   "source": [
    "## distribution of donation amount\n",
    "bins = np.linspace(0, 1000, 40)\n",
    "plt.figure(figsize = (16,10))\n",
    "plt.hist(donations_raw['Donation Amount'], bins= bins, color = ['g'], alpha = 0.8)\n",
    "plt.xticks(np.arange(0, 1001, 50))\n",
    "plt.xlabel('Donation Amount')\n",
    "plt.ylabel('Count')\n",
    "plt.ylim(0, 2600000)\n",
    "plt.show()"
   ]
  },
  {
   "cell_type": "markdown",
   "metadata": {},
   "source": [
    "Most of the donations are less than $200. "
   ]
  },
  {
   "cell_type": "code",
   "execution_count": 67,
   "metadata": {},
   "outputs": [
    {
     "name": "stdout",
     "output_type": "stream",
     "text": [
      "Total # of donations: 4687884\n",
      "# of donations more than $20000: 6\n",
      "# of donations more than $10000: 61\n",
      "# of donations less than $1: 350\n",
      "Average donation amount: 60.66878857923583\n"
     ]
    }
   ],
   "source": [
    "print(\"Total # of donations:\", len(donations_raw))\n",
    "print (\"# of donations more than $20000:\",len(donations_raw[donations_raw['Donation Amount'] > 20000]))\n",
    "print (\"# of donations more than $10000:\",len(donations_raw[donations_raw['Donation Amount'] > 10000]))\n",
    "print(\"# of donations less than $1:\",len(donations_raw[donations_raw['Donation Amount'] < 1]))\n",
    "print(\"Average donation amount:\",np.mean(donations_raw['Donation Amount']))"
   ]
  },
  {
   "cell_type": "markdown",
   "metadata": {},
   "source": [
    "### Compare donation distribution among donors w/ and w/o optional donation"
   ]
  },
  {
   "cell_type": "code",
   "execution_count": 51,
   "metadata": {},
   "outputs": [
    {
     "data": {
      "text/plain": [
       "<matplotlib.axes._subplots.AxesSubplot at 0x24c066504e0>"
      ]
     },
     "execution_count": 51,
     "metadata": {},
     "output_type": "execute_result"
    },
    {
     "data": {
      "image/png": "[encoded data removed]",
      "text/plain": [
       "<Figure size 432x288 with 1 Axes>"
      ]
     },
     "metadata": {},
     "output_type": "display_data"
    }
   ],
   "source": [
    "donations_raw.boxplot(column = \"Donation Amount\", by = \"Donation Included Optional Donation\",\n",
    "                     showfliers = False)\n"
   ]
  },
  {
   "cell_type": "markdown",
   "metadata": {},
   "source": [
    "No significant difference in donation amount distribution between donors with and without optional donations"
   ]
  },
  {
   "cell_type": "code",
   "execution_count": 123,
   "metadata": {},
   "outputs": [
    {
     "data": {
      "text/plain": [
       "([<matplotlib.patches.Wedge at 0x208009a2320>,\n",
       "  <matplotlib.patches.Wedge at 0x208009a2a20>],\n",
       " [Text(-0.985735,0.488186,'Yes'), Text(0.985735,-0.488186,'No')],\n",
       " [Text(-0.537674,0.266284,'85%'), Text(0.537674,-0.266284,'15%')])"
      ]
     },
     "execution_count": 123,
     "metadata": {},
     "output_type": "execute_result"
    },
    {
     "data": {
      "image/png": "[encoded data removed]",
      "text/plain": [
       "<Figure size 432x288 with 1 Axes>"
      ]
     },
     "metadata": {},
     "output_type": "display_data"
    }
   ],
   "source": [
    "plt.pie(donations_raw['Donation Included Optional Donation'].value_counts(), labels = ['Yes', 'No'], autopct = '%1.0f%%')"
   ]
  },
  {
   "cell_type": "markdown",
   "metadata": {},
   "source": [
    "85% of donations included the optional donation to DonorsChoose"
   ]
  },
  {
   "cell_type": "markdown",
   "metadata": {},
   "source": [
    "### Number of Donations and Amount by Teachers/Non-Teachers"
   ]
  },
  {
   "cell_type": "code",
   "execution_count": 209,
   "metadata": {},
   "outputs": [],
   "source": [
    "donors_T = donors_raw[donors_raw[\"Donor Is Teacher\"] == 'Yes']\n",
    "donors_NT = donors_raw[donors_raw[\"Donor Is Teacher\"] == 'No']\n",
    "donations_T = donations_raw[donations_raw[\"Donor ID\"].isin(donors_T[\"Donor ID\"])]\n",
    "donations_NT = donations_raw[donations_raw[\"Donor ID\"].isin(donors_NT[\"Donor ID\"])]"
   ]
  },
  {
   "cell_type": "code",
   "execution_count": 211,
   "metadata": {},
   "outputs": [
    {
     "data": {
      "text/plain": [
       "([<matplotlib.patches.Wedge at 0x21e8397a908>,\n",
       "  <matplotlib.patches.Wedge at 0x21e839840b8>],\n",
       " [Text(0.684952,0.860721,'Teacher donations'),\n",
       "  Text(-0.684952,-0.860721,'Non-teacher donations')],\n",
       " [Text(0.37361,0.469484,'29%'), Text(-0.37361,-0.469484,'71%')])"
      ]
     },
     "execution_count": 211,
     "metadata": {},
     "output_type": "execute_result"
    },
    {
     "data": {
      "image/png": "[encoded data removed]",
      "text/plain": [
       "<Figure size 432x288 with 1 Axes>"
      ]
     },
     "metadata": {},
     "output_type": "display_data"
    }
   ],
   "source": [
    "plt.pie([len(donations_T),len(donations_NT)], labels = ['Teacher donations', 'Non-teacher donations'], autopct = '%1.0f%%',  colors = (\"#ed7e07\",\"#195aa3\"))"
   ]
  },
  {
   "cell_type": "markdown",
   "metadata": {},
   "source": [
    "While only 10% of donors are teachers, 29% of all donations are contributed by teachers"
   ]
  },
  {
   "cell_type": "code",
   "execution_count": 109,
   "metadata": {},
   "outputs": [
    {
     "name": "stdout",
     "output_type": "stream",
     "text": [
      "Average number of donation per teacher donor: 6.31\n",
      "Average number of donation per non-teacher donor: 1.75\n"
     ]
    }
   ],
   "source": [
    "print(\"Average number of donation per teacher donor:\", \"%.2f\" % (len(donations_T)/212285))\n",
    "print(\"Average number of donation per non-teacher donor:\", \"%.2f\" % (len(donations_NT)/1910355))`b"
   ]
  },
  {
   "cell_type": "code",
   "execution_count": 114,
   "metadata": {
    "scrolled": true
   },
   "outputs": [
    {
     "data": {
      "image/png": "[encoded data removed]",
      "text/plain": [
       "<Figure size 720x360 with 2 Axes>"
      ]
     },
     "metadata": {},
     "output_type": "display_data"
    }
   ],
   "source": [
    "plt.figure(figsize = (10,5))\n",
    "plt.subplot(1,2,1)\n",
    "fig1=donations_T.boxplot(column = \"Donation Amount\", showfliers = False)\n",
    "fig1.set_xlabel(\"Teacher donors\")\n",
    "plt.subplot(1,2,2)\n",
    "fig2=donations_NT.boxplot(column = \"Donation Amount\", showfliers = False)\n",
    "fig2.set_xlabel(\"Non Teacher donors\")\n",
    "plt.tight_layout()\n"
   ]
  },
  {
   "cell_type": "markdown",
   "metadata": {},
   "source": [
    "Teacher donors make more donations but with less average amount compared to non-teacher donors"
   ]
  },
  {
   "cell_type": "markdown",
   "metadata": {},
   "source": [
    "### Optional donations among teachers/non-teachers"
   ]
  },
  {
   "cell_type": "code",
   "execution_count": 120,
   "metadata": {
    "scrolled": true
   },
   "outputs": [
    {
     "data": {
      "image/png": "[encoded data removed]",
      "text/plain": [
       "<Figure size 432x288 with 1 Axes>"
      ]
     },
     "metadata": {},
     "output_type": "display_data"
    }
   ],
   "source": [
    "plt.hist([donations_T['Donation Included Optional Donation'], donations_NT['Donation Included Optional Donation']],  color = ['g','b'], alpha=0.8, label= ['Teacher', 'Non-teacher'])\n",
    "plt.legend(loc='upper right')\n",
    "plt.xlabel('Optional Donation')\n",
    "plt.ylabel('Count')\n",
    "\n",
    "plt.show()"
   ]
  },
  {
   "cell_type": "code",
   "execution_count": 136,
   "metadata": {},
   "outputs": [
    {
     "data": {
      "text/plain": [
       "Text(0.5,1,'Optional Donations')"
      ]
     },
     "execution_count": 136,
     "metadata": {},
     "output_type": "execute_result"
    },
    {
     "data": {
      "image/png": "[encoded data removed]",
      "text/plain": [
       "<Figure size 720x360 with 2 Axes>"
      ]
     },
     "metadata": {},
     "output_type": "display_data"
    }
   ],
   "source": [
    "plt.figure(figsize = (10,5))\n",
    "plt.subplot(1,2,1)\n",
    "plt.pie(donations_T['Donation Included Optional Donation'].value_counts(), labels = ['Yes', 'No'], autopct = '%1.0f%%')\n",
    "plt.xlabel(\"Teacher donor\")\n",
    "plt.gca().set_title('Optional Donations')\n",
    "\n",
    "plt.subplot(1,2,2)\n",
    "plt.pie(donations_NT['Donation Included Optional Donation'].value_counts(), labels = ['Yes', 'No'], autopct = '%1.0f%%')\n",
    "plt.xlabel(\"Non-teacher donor\")\n",
    "plt.gca().set_title('Optional Donations')\n"
   ]
  },
  {
   "cell_type": "markdown",
   "metadata": {},
   "source": [
    "### Donations received by year"
   ]
  },
  {
   "cell_type": "code",
   "execution_count": 4,
   "metadata": {},
   "outputs": [],
   "source": [
    "donations_raw[\"Donation Year\"] = donations_raw['Donation Received Date'].dt.year\n",
    "donations_raw[\"Donation Month\"] = donations_raw['Donation Received Date'].dt.month\n",
    "donations_raw[\"Donation Day\"] = donations_raw['Donation Received Date'].dt.day\n",
    "donations_raw[\"Donation Weekday\"] = donations_raw['Donation Received Date'].dt.weekday"
   ]
  },
  {
   "cell_type": "code",
   "execution_count": 86,
   "metadata": {},
   "outputs": [
    {
     "data": {
      "image/png": "[encoded data removed]",
      "text/plain": [
       "<Figure size 432x288 with 1 Axes>"
      ]
     },
     "metadata": {},
     "output_type": "display_data"
    }
   ],
   "source": [
    "## histogram of donation by year\n",
    "cts = donations_raw[\"Donation Year\"].value_counts().sort_index(ascending =True)\n",
    "x = cts.keys()\n",
    "y = cts.reset_index(drop = True)\n",
    "plt.bar(height = y, x=x, align = 'center')\n",
    "plt.xlabel(\"Year\")\n",
    "plt.ylabel(\"Count\")\n",
    "for i in range(len(x)):\n",
    "    plt.text(x = x[i]-0.3 , y = y[i]+10000, s =y[i], size = 8)\n",
    "plt.show()"
   ]
  },
  {
   "cell_type": "code",
   "execution_count": 7,
   "metadata": {},
   "outputs": [
    {
     "data": {
      "image/png": "[encoded data removed]",
      "text/plain": [
       "<Figure size 720x360 with 1 Axes>"
      ]
     },
     "metadata": {},
     "output_type": "display_data"
    }
   ],
   "source": [
    "## histogram of donation by Month, average over 2012-2018\n",
    "cts = donations_raw[\"Donation Month\"].value_counts().sort_index(ascending =True)\n",
    "x = cts.keys()\n",
    "y = cts.reset_index(drop = True)\n",
    "plt.figure(figsize=(10, 5)) \n",
    "plt.bar(height = y, x=x, align = 'center', width = 0.5)\n",
    "plt.xlabel(\"Month\")\n",
    "plt.ylabel(\"Count\")\n",
    "for i in range(len(x)):\n",
    "    plt.text(x = x[i]-0.3 , y = y[i]+10000, s =y[i], size = 8)\n",
    "plt.show()"
   ]
  },
  {
   "cell_type": "markdown",
   "metadata": {},
   "source": [
    "May, June, July have the least number of donations. Maybe due to people going on summer vacations or public school not in session during summer break"
   ]
  },
  {
   "cell_type": "markdown",
   "metadata": {},
   "source": [
    "## EDA-Projects"
   ]
  },
  {
   "cell_type": "markdown",
   "metadata": {},
   "source": [
    "### overview of features"
   ]
  },
  {
   "cell_type": "code",
   "execution_count": 5,
   "metadata": {},
   "outputs": [],
   "source": [
    "projects_raw = pd.read_csv(\"Projects.csv\", \n",
    "                            dtype = {\"Project Posted Date\": str, \"Project Expiration Date\": str, \"Project Fully Funded Date\": str}, \n",
    "                            parse_dates = [\"Project Posted Date\", \"Project Expiration Date\", \"Project Fully Funded Date\"])"
   ]
  },
  {
   "cell_type": "code",
   "execution_count": 218,
   "metadata": {
    "scrolled": true
   },
   "outputs": [
    {
     "name": "stdout",
     "output_type": "stream",
     "text": [
      "<class 'pandas.core.frame.DataFrame'>\n",
      "RangeIndex: 1110017 entries, 0 to 1110016\n",
      "Data columns (total 18 columns):\n",
      "Project ID                          1110017 non-null object\n",
      "School ID                           1110017 non-null object\n",
      "Teacher ID                          1110017 non-null object\n",
      "Teacher Project Posted Sequence     1110017 non-null int64\n",
      "Project Type                        1110017 non-null object\n",
      "Project Title                       1110011 non-null object\n",
      "Project Essay                       1110016 non-null object\n",
      "Project Short Description           1110014 non-null object\n",
      "Project Need Statement              1110014 non-null object\n",
      "Project Subject Category Tree       1109988 non-null object\n",
      "Project Subject Subcategory Tree    1109988 non-null object\n",
      "Project Grade Level Category        1110017 non-null object\n",
      "Project Resource Category           1109981 non-null object\n",
      "Project Cost                        1110017 non-null float64\n",
      "Project Posted Date                 1110017 non-null datetime64[ns]\n",
      "Project Expiration Date             1110003 non-null datetime64[ns]\n",
      "Project Current Status              1110017 non-null object\n",
      "Project Fully Funded Date           826764 non-null datetime64[ns]\n",
      "dtypes: datetime64[ns](3), float64(1), int64(1), object(13)\n",
      "memory usage: 152.4+ MB\n"
     ]
    }
   ],
   "source": [
    "projects_raw.info()"
   ]
  },
  {
   "cell_type": "code",
   "execution_count": 6,
   "metadata": {},
   "outputs": [
    {
     "data": {
      "text/html": [
       "<div>\n",
       "<style scoped>\n",
       "    .dataframe tbody tr th:only-of-type {\n",
       "        vertical-align: middle;\n",
       "    }\n",
       "\n",
       "    .dataframe tbody tr th {\n",
       "        vertical-align: top;\n",
       "    }\n",
       "\n",
       "    .dataframe thead th {\n",
       "        text-align: right;\n",
       "    }\n",
       "</style>\n",
       "<table border=\"1\" class=\"dataframe\">\n",
       "  <thead>\n",
       "    <tr style=\"text-align: right;\">\n",
       "      <th></th>\n",
       "      <th>Project ID</th>\n",
       "      <th>School ID</th>\n",
       "      <th>Teacher ID</th>\n",
       "      <th>Teacher Project Posted Sequence</th>\n",
       "      <th>Project Type</th>\n",
       "      <th>Project Title</th>\n",
       "      <th>Project Essay</th>\n",
       "      <th>Project Short Description</th>\n",
       "      <th>Project Need Statement</th>\n",
       "      <th>Project Subject Category Tree</th>\n",
       "      <th>Project Subject Subcategory Tree</th>\n",
       "      <th>Project Grade Level Category</th>\n",
       "      <th>Project Resource Category</th>\n",
       "      <th>Project Cost</th>\n",
       "      <th>Project Posted Date</th>\n",
       "      <th>Project Expiration Date</th>\n",
       "      <th>Project Current Status</th>\n",
       "      <th>Project Fully Funded Date</th>\n",
       "    </tr>\n",
       "  </thead>\n",
       "  <tbody>\n",
       "    <tr>\n",
       "      <th>0</th>\n",
       "      <td>7685f0265a19d7b52a470ee4bac883ba</td>\n",
       "      <td>e180c7424cb9c68cb49f141b092a988f</td>\n",
       "      <td>4ee5200e89d9e2998ec8baad8a3c5968</td>\n",
       "      <td>25</td>\n",
       "      <td>Teacher-Led</td>\n",
       "      <td>Stand Up to Bullying: Together We Can!</td>\n",
       "      <td>Did you know that 1-7 students in grades K-12 ...</td>\n",
       "      <td>Did you know that 1-7 students in grades K-12 ...</td>\n",
       "      <td>My students need 25 copies of \"Bullying in Sch...</td>\n",
       "      <td>Applied Learning</td>\n",
       "      <td>Character Education, Early Development</td>\n",
       "      <td>Grades PreK-2</td>\n",
       "      <td>Technology</td>\n",
       "      <td>361.80</td>\n",
       "      <td>2013-01-01</td>\n",
       "      <td>2013-05-30</td>\n",
       "      <td>Fully Funded</td>\n",
       "      <td>2013-01-11</td>\n",
       "    </tr>\n",
       "    <tr>\n",
       "      <th>1</th>\n",
       "      <td>f9f4af7099061fb4bf44642a03e5c331</td>\n",
       "      <td>08b20f1e2125103ed7aa17e8d76c71d4</td>\n",
       "      <td>cca2d1d277fb4adb50147b49cdc3b156</td>\n",
       "      <td>3</td>\n",
       "      <td>Teacher-Led</td>\n",
       "      <td>Learning in Color!</td>\n",
       "      <td>Help us have a fun, interactive listening cent...</td>\n",
       "      <td>Help us have a fun, interactive listening cent...</td>\n",
       "      <td>My students need a listening center, read alon...</td>\n",
       "      <td>Applied Learning, Literacy &amp; Language</td>\n",
       "      <td>Early Development, Literacy</td>\n",
       "      <td>Grades PreK-2</td>\n",
       "      <td>Technology</td>\n",
       "      <td>512.85</td>\n",
       "      <td>2013-01-01</td>\n",
       "      <td>2013-05-31</td>\n",
       "      <td>Expired</td>\n",
       "      <td>NaT</td>\n",
       "    </tr>\n",
       "    <tr>\n",
       "      <th>2</th>\n",
       "      <td>afd99a01739ad5557b51b1ba0174e832</td>\n",
       "      <td>1287f5128b1f36bf8434e5705a7cc04d</td>\n",
       "      <td>6c5bd0d4f20547a001628aefd71de89e</td>\n",
       "      <td>1</td>\n",
       "      <td>Teacher-Led</td>\n",
       "      <td>Help Second Grade ESL Students Develop Languag...</td>\n",
       "      <td>Visiting or moving to a new place can be very ...</td>\n",
       "      <td>Visiting or moving to a new place can be very ...</td>\n",
       "      <td>My students need beginning vocabulary audio ca...</td>\n",
       "      <td>Literacy &amp; Language</td>\n",
       "      <td>ESL</td>\n",
       "      <td>Grades PreK-2</td>\n",
       "      <td>Supplies</td>\n",
       "      <td>435.92</td>\n",
       "      <td>2013-01-01</td>\n",
       "      <td>2013-05-30</td>\n",
       "      <td>Fully Funded</td>\n",
       "      <td>2013-05-22</td>\n",
       "    </tr>\n",
       "  </tbody>\n",
       "</table>\n",
       "</div>"
      ],
      "text/plain": [
       "                         Project ID                         School ID  \\\n",
       "0  7685f0265a19d7b52a470ee4bac883ba  e180c7424cb9c68cb49f141b092a988f   \n",
       "1  f9f4af7099061fb4bf44642a03e5c331  08b20f1e2125103ed7aa17e8d76c71d4   \n",
       "2  afd99a01739ad5557b51b1ba0174e832  1287f5128b1f36bf8434e5705a7cc04d   \n",
       "\n",
       "                         Teacher ID  Teacher Project Posted Sequence  \\\n",
       "0  4ee5200e89d9e2998ec8baad8a3c5968                               25   \n",
       "1  cca2d1d277fb4adb50147b49cdc3b156                                3   \n",
       "2  6c5bd0d4f20547a001628aefd71de89e                                1   \n",
       "\n",
       "  Project Type                                      Project Title  \\\n",
       "0  Teacher-Led             Stand Up to Bullying: Together We Can!   \n",
       "1  Teacher-Led                                 Learning in Color!   \n",
       "2  Teacher-Led  Help Second Grade ESL Students Develop Languag...   \n",
       "\n",
       "                                       Project Essay  \\\n",
       "0  Did you know that 1-7 students in grades K-12 ...   \n",
       "1  Help us have a fun, interactive listening cent...   \n",
       "2  Visiting or moving to a new place can be very ...   \n",
       "\n",
       "                           Project Short Description  \\\n",
       "0  Did you know that 1-7 students in grades K-12 ...   \n",
       "1  Help us have a fun, interactive listening cent...   \n",
       "2  Visiting or moving to a new place can be very ...   \n",
       "\n",
       "                              Project Need Statement  \\\n",
       "0  My students need 25 copies of \"Bullying in Sch...   \n",
       "1  My students need a listening center, read alon...   \n",
       "2  My students need beginning vocabulary audio ca...   \n",
       "\n",
       "           Project Subject Category Tree  \\\n",
       "0                       Applied Learning   \n",
       "1  Applied Learning, Literacy & Language   \n",
       "2                    Literacy & Language   \n",
       "\n",
       "         Project Subject Subcategory Tree Project Grade Level Category  \\\n",
       "0  Character Education, Early Development                Grades PreK-2   \n",
       "1             Early Development, Literacy                Grades PreK-2   \n",
       "2                                     ESL                Grades PreK-2   \n",
       "\n",
       "  Project Resource Category  Project Cost Project Posted Date  \\\n",
       "0                Technology        361.80          2013-01-01   \n",
       "1                Technology        512.85          2013-01-01   \n",
       "2                  Supplies        435.92          2013-01-01   \n",
       "\n",
       "  Project Expiration Date Project Current Status Project Fully Funded Date  \n",
       "0              2013-05-30           Fully Funded                2013-01-11  \n",
       "1              2013-05-31                Expired                       NaT  \n",
       "2              2013-05-30           Fully Funded                2013-05-22  "
      ]
     },
     "execution_count": 6,
     "metadata": {},
     "output_type": "execute_result"
    }
   ],
   "source": [
    "projects_raw.head(3)"
   ]
  },
  {
   "cell_type": "markdown",
   "metadata": {},
   "source": [
    "### Distribution of project cost"
   ]
  },
  {
   "cell_type": "code",
   "execution_count": 17,
   "metadata": {},
   "outputs": [
    {
     "data": {
      "image/png": "[encoded data removed]",
      "text/plain": [
       "<Figure size 1152x720 with 1 Axes>"
      ]
     },
     "metadata": {},
     "output_type": "display_data"
    },
    {
     "name": "stdout",
     "output_type": "stream",
     "text": [
      "Max Project Cost: $ 255737.67\n",
      "Mean Project Cost: $ 741.5240377669335\n",
      "Number of projects that cost more than $100000: 12\n"
     ]
    }
   ],
   "source": [
    "## distribution of project cost\n",
    "bins = np.linspace(0, 3500, 30)\n",
    "plt.figure(figsize = (16,10))\n",
    "plt.hist(projects_raw['Project Cost'], bins= bins, color = ['g'], alpha = 0.8)\n",
    "plt.xticks(np.arange(0, 3500, 250))\n",
    "plt.xlabel('Project Cost')\n",
    "plt.ylabel('Count')\n",
    "plt.ylim(0, 200000)\n",
    "plt.show()\n",
    "print(\"Max Project Cost: $\",projects_raw[\"Project Cost\"].max())\n",
    "print(\"Mean Project Cost: $\",projects_raw[\"Project Cost\"].mean())\n",
    "print(\"Number of projects that cost more than $100000:\", len(projects_raw[projects_raw[\"Project Cost\"] > 100000]))"
   ]
  },
  {
   "cell_type": "markdown",
   "metadata": {},
   "source": [
    "Most projects cost less than $3000"
   ]
  },
  {
   "cell_type": "markdown",
   "metadata": {},
   "source": [
    "### Average project cost by resource categories"
   ]
  },
  {
   "cell_type": "code",
   "execution_count": 26,
   "metadata": {},
   "outputs": [
    {
     "name": "stdout",
     "output_type": "stream",
     "text": [
      "Mean Project Cost for Supplies: $ 604.5774204686425\n",
      "Mean Project Cost for Technology: $ 999.5535029796588\n",
      "Mean Project Cost for Books: $ 546.1887582160017\n"
     ]
    }
   ],
   "source": [
    "print(\"Mean Project Cost for Supplies: $\", projects_raw[projects_raw[\"Project Resource Category\"] == \"Supplies\"][\"Project Cost\"].mean())\n",
    "print(\"Mean Project Cost for Technology: $\", projects_raw[projects_raw[\"Project Resource Category\"] == \"Technology\"][\"Project Cost\"].mean())\n",
    "print(\"Mean Project Cost for Books: $\", projects_raw[projects_raw[\"Project Resource Category\"] == \"Books\"][\"Project Cost\"].mean())\n"
   ]
  },
  {
   "cell_type": "markdown",
   "metadata": {},
   "source": [
    "### Distrbution of project subject and resource categories"
   ]
  },
  {
   "cell_type": "code",
   "execution_count": 8,
   "metadata": {},
   "outputs": [
    {
     "data": {
      "image/png": "[encoded data removed]",
      "text/plain": [
       "<Figure size 1080x360 with 3 Axes>"
      ]
     },
     "metadata": {},
     "output_type": "display_data"
    }
   ],
   "source": [
    "cts_ps = projects_raw[\"Project Subject Category Tree\"].value_counts()\n",
    "cts_pss = projects_raw[\"Project Subject Subcategory Tree\"].value_counts()\n",
    "cts_res = projects_raw[\"Project Resource Category\"].value_counts()\n",
    "\n",
    "plt.figure(figsize = (15,5))\n",
    "plt.subplot(1,3,1)\n",
    "fig1=cts_ps[0:10].plot(\"barh\", title = \"Project Subject Category\")\n",
    "fig1.set_xlabel(\"Count\")\n",
    "plt.subplot(1,3,2)\n",
    "fig2=cts_pss[0:10].plot(\"barh\", title = \"Project Subject Subcategory\")\n",
    "fig2.set_xlabel(\"Count\")\n",
    "plt.subplot(1,3,3)\n",
    "fig3=cts_res[0:10].plot(\"barh\", title = \"Project Resource Category\")\n",
    "fig3.set_xlabel(\"Count\")\n",
    "plt.tight_layout()"
   ]
  },
  {
   "cell_type": "markdown",
   "metadata": {},
   "source": [
    "most requested resources: supplies, technology, books\n",
    "most frequent project categories:literacy & language, math & science, writing"
   ]
  },
  {
   "cell_type": "markdown",
   "metadata": {},
   "source": [
    "### Characteristics of fully funded projects"
   ]
  },
  {
   "cell_type": "code",
   "execution_count": 9,
   "metadata": {},
   "outputs": [
    {
     "data": {
      "text/plain": [
       "Fully Funded    826764\n",
       "Expired         241402\n",
       "Live             41851\n",
       "Name: Project Current Status, dtype: int64"
      ]
     },
     "execution_count": 9,
     "metadata": {},
     "output_type": "execute_result"
    }
   ],
   "source": [
    "projects_raw[\"Project Current Status\"].value_counts()\n"
   ]
  },
  {
   "cell_type": "code",
   "execution_count": 8,
   "metadata": {},
   "outputs": [],
   "source": [
    "projects_fund = projects_raw[projects_raw[\"Project Current Status\"]== \"Fully Funded\"]\n",
    "projects_exp = projects_raw[projects_raw[\"Project Current Status\"]== \"Expired\"]"
   ]
  },
  {
   "cell_type": "markdown",
   "metadata": {},
   "source": [
    "#### Project cost"
   ]
  },
  {
   "cell_type": "code",
   "execution_count": 21,
   "metadata": {},
   "outputs": [
    {
     "name": "stdout",
     "output_type": "stream",
     "text": [
      "Average cost of fully funded projects: 695.465948025274\n",
      "Average cost of expired projects: 1044.5777035402507\n"
     ]
    },
    {
     "data": {
      "image/png": "[encoded data removed]",
      "text/plain": [
       "<Figure size 720x360 with 2 Axes>"
      ]
     },
     "metadata": {},
     "output_type": "display_data"
    }
   ],
   "source": [
    "plt.figure(figsize = (10,5))\n",
    "plt.subplot(1,2,1)\n",
    "fig1=projects_fund.boxplot(column = \"Project Cost\", showfliers = False)\n",
    "fig1.set_xlabel(\"Fully Funded\")\n",
    "plt.subplot(1,2,2)\n",
    "fig2=projects_exp.boxplot(column = \"Project Cost\", showfliers = False)\n",
    "fig2.set_xlabel(\"Expired\")\n",
    "plt.tight_layout()\n",
    "print(\"Average cost of fully funded projects:\", projects_fund[\"Project Cost\"].mean())\n",
    "print(\"Average cost of expired projects:\", projects_exp[\"Project Cost\"].mean())"
   ]
  },
  {
   "cell_type": "markdown",
   "metadata": {},
   "source": [
    "#### Project and resources categories"
   ]
  },
  {
   "cell_type": "code",
   "execution_count": 9,
   "metadata": {},
   "outputs": [
    {
     "data": {
      "image/png": "[encoded data removed]",
      "text/plain": [
       "<Figure size 1080x720 with 6 Axes>"
      ]
     },
     "metadata": {},
     "output_type": "display_data"
    }
   ],
   "source": [
    "pf_ps = projects_fund[\"Project Subject Category Tree\"].value_counts()\n",
    "pf_pss = projects_fund[\"Project Subject Subcategory Tree\"].value_counts()\n",
    "pf_res = projects_fund[\"Project Resource Category\"].value_counts()\n",
    "pe_ps = projects_exp[\"Project Subject Category Tree\"].value_counts()\n",
    "pe_pss = projects_exp[\"Project Subject Subcategory Tree\"].value_counts()\n",
    "pe_res = projects_exp[\"Project Resource Category\"].value_counts()\n",
    "\n",
    "plt.figure(figsize = (15,10))\n",
    "plt.subplot(2,3,1)\n",
    "fig1=pf_ps[0:10].plot(\"barh\", title = \"Funded Project Subject Category\")\n",
    "fig1.set_xlabel(\"Count\")\n",
    "plt.subplot(2,3,2)\n",
    "fig2=pf_pss[0:10].plot(\"barh\", title = \"Funded Project Subject Subcategory\")\n",
    "fig2.set_xlabel(\"Count\")\n",
    "plt.subplot(2,3,3)\n",
    "fig3=pf_res[0:10].plot(\"barh\", title = \"Funded Project Resource Category\")\n",
    "fig3.set_xlabel(\"Count\")\n",
    "plt.subplot(2,3,4)\n",
    "fig1=pe_ps[0:10].plot(\"barh\", title = \"Expired Project Subject Category\")\n",
    "fig1.set_xlabel(\"Count\")\n",
    "plt.subplot(2,3,5)\n",
    "fig2=pe_pss[0:10].plot(\"barh\", title = \"Expired Project Subject Subcategory\")\n",
    "fig2.set_xlabel(\"Count\")\n",
    "plt.subplot(2,3,6)\n",
    "fig3=pe_res[0:10].plot(\"barh\", title = \"Expired Project Resource Category\")\n",
    "fig3.set_xlabel(\"Count\")\n",
    "plt.tight_layout()"
   ]
  },
  {
   "cell_type": "markdown",
   "metadata": {},
   "source": [
    "project resource involving technology is less likely to get fully funded"
   ]
  },
  {
   "cell_type": "markdown",
   "metadata": {},
   "source": [
    "#### Project grades"
   ]
  },
  {
   "cell_type": "code",
   "execution_count": 10,
   "metadata": {
    "scrolled": true
   },
   "outputs": [
    {
     "data": {
      "image/png": "[encoded data removed]",
      "text/plain": [
       "<Figure size 1080x432 with 3 Axes>"
      ]
     },
     "metadata": {},
     "output_type": "display_data"
    }
   ],
   "source": [
    "pf_grade = projects_fund[\"Project Grade Level Category\"].value_counts()\n",
    "pe_grade = projects_exp[\"Project Grade Level Category\"].value_counts()\n",
    "p_grade = projects_raw[\"Project Grade Level Category\"].value_counts()\n",
    "\n",
    "plt.figure(figsize = (15,6))\n",
    "plt.subplot(1,3,1)\n",
    "fig1=pf_grade[0:10].plot(\"barh\", title = \"Funded Project Grade Level Category\")\n",
    "fig1.set_xlabel(\"Count\")\n",
    "plt.subplot(1,3,2)\n",
    "fig2=pe_grade[0:10].plot(\"barh\", title = \"Expired Project Grade Level Category\")\n",
    "fig2.set_xlabel(\"Count\")\n",
    "plt.subplot(1,3,3)\n",
    "fig3=p_grade[0:10].plot(\"barh\", title = \"Total Project Grade Level Category\")\n",
    "fig3.set_xlabel(\"Count\")\n",
    "plt.tight_layout()"
   ]
  },
  {
   "cell_type": "code",
   "execution_count": 13,
   "metadata": {},
   "outputs": [
    {
     "name": "stdout",
     "output_type": "stream",
     "text": [
      "Percent of Grades PreK-2 projects funded: 0.75\n",
      "Percent of Grades 3-5 projects funded: 0.74\n",
      "Percent of Grades 6-8 projects funded: 0.74\n",
      "Percent of Grades 9-12 projects funded: 0.75\n"
     ]
    }
   ],
   "source": [
    "print(\"Percent of Grades PreK-2 projects funded:\", \"%.2f\" % \n",
    "      (len(projects_fund[projects_fund[\"Project Grade Level Category\"] == \"Grades PreK-2\"])/\n",
    "len(projects_raw[projects_raw[\"Project Grade Level Category\"] == \"Grades PreK-2\"])\n",
    "      ))\n",
    "print(\"Percent of Grades 3-5 projects funded:\", \"%.2f\" % \n",
    "      (len(projects_fund[projects_fund[\"Project Grade Level Category\"] == \"Grades 3-5\"])/\n",
    "len(projects_raw[projects_raw[\"Project Grade Level Category\"] == \"Grades 3-5\"])\n",
    "      ))\n",
    "print(\"Percent of Grades 6-8 projects funded:\", \"%.2f\" % \n",
    "      (len(projects_fund[projects_fund[\"Project Grade Level Category\"] == \"Grades 6-8\"])/\n",
    "len(projects_raw[projects_raw[\"Project Grade Level Category\"] == \"Grades 6-8\"])\n",
    "      ))\n",
    "print(\"Percent of Grades 9-12 projects funded:\", \"%.2f\" % \n",
    "      (len(projects_fund[projects_fund[\"Project Grade Level Category\"] == \"Grades 9-12\"])/\n",
    "len(projects_raw[projects_raw[\"Project Grade Level Category\"] == \"Grades 9-12\"])\n",
    "      ))"
   ]
  },
  {
   "cell_type": "markdown",
   "metadata": {},
   "source": [
    "Most of the projects are for younger grade levels, but grade level is not a contributing factor influencing the likelihood of a project getting fully funded"
   ]
  },
  {
   "cell_type": "markdown",
   "metadata": {},
   "source": [
    "### Projects and school and donor info"
   ]
  },
  {
   "cell_type": "markdown",
   "metadata": {},
   "source": [
    "#### apphend location info of donor and school"
   ]
  },
  {
   "cell_type": "code",
   "execution_count": 6,
   "metadata": {},
   "outputs": [],
   "source": [
    "## load schools dataframe\n",
    "schools_raw = pd.read_csv(\"Schools.csv\")"
   ]
  },
  {
   "cell_type": "code",
   "execution_count": 7,
   "metadata": {},
   "outputs": [],
   "source": [
    "## add school info to projects based on School ID\n",
    "projects_local = pd.merge(projects_raw, schools_raw, on = \"School ID\")"
   ]
  },
  {
   "cell_type": "code",
   "execution_count": 8,
   "metadata": {},
   "outputs": [],
   "source": [
    "## add donor info to donation df based on donor ID\n",
    "donations_local = pd.merge(donations_raw, donors_raw[[\"Donor City\", \"Donor State\", \"Donor ID\"]], on = \"Donor ID\")"
   ]
  },
  {
   "cell_type": "code",
   "execution_count": 32,
   "metadata": {},
   "outputs": [
    {
     "name": "stdout",
     "output_type": "stream",
     "text": [
      "4687884\n",
      "2122640\n",
      "4681900\n"
     ]
    }
   ],
   "source": [
    "print(len(donations_raw))\n",
    "print(len(donors_raw))\n",
    "print(len(donations_local))"
   ]
  },
  {
   "cell_type": "code",
   "execution_count": 33,
   "metadata": {},
   "outputs": [
    {
     "data": {
      "text/html": [
       "<div>\n",
       "<style scoped>\n",
       "    .dataframe tbody tr th:only-of-type {\n",
       "        vertical-align: middle;\n",
       "    }\n",
       "\n",
       "    .dataframe tbody tr th {\n",
       "        vertical-align: top;\n",
       "    }\n",
       "\n",
       "    .dataframe thead th {\n",
       "        text-align: right;\n",
       "    }\n",
       "</style>\n",
       "<table border=\"1\" class=\"dataframe\">\n",
       "  <thead>\n",
       "    <tr style=\"text-align: right;\">\n",
       "      <th></th>\n",
       "      <th>Project ID</th>\n",
       "      <th>Donation ID</th>\n",
       "      <th>Donor ID</th>\n",
       "      <th>Donation Included Optional Donation</th>\n",
       "      <th>Donation Amount</th>\n",
       "      <th>Donor Cart Sequence</th>\n",
       "      <th>Donation Received Date</th>\n",
       "      <th>Donation Year</th>\n",
       "      <th>Donation Month</th>\n",
       "      <th>Donation Day</th>\n",
       "      <th>Donation Weekday</th>\n",
       "      <th>Donor City</th>\n",
       "      <th>Donor State</th>\n",
       "    </tr>\n",
       "  </thead>\n",
       "  <tbody>\n",
       "    <tr>\n",
       "      <th>0</th>\n",
       "      <td>000009891526c0ade7180f8423792063</td>\n",
       "      <td>688729120858666221208529ee3fc18e</td>\n",
       "      <td>1f4b5b6e68445c6c4a0509b3aca93f38</td>\n",
       "      <td>No</td>\n",
       "      <td>178.37</td>\n",
       "      <td>11</td>\n",
       "      <td>2016-08-23 13:15:57</td>\n",
       "      <td>2016</td>\n",
       "      <td>8</td>\n",
       "      <td>23</td>\n",
       "      <td>1</td>\n",
       "      <td>West Jordan</td>\n",
       "      <td>Utah</td>\n",
       "    </tr>\n",
       "  </tbody>\n",
       "</table>\n",
       "</div>"
      ],
      "text/plain": [
       "                         Project ID                       Donation ID  \\\n",
       "0  000009891526c0ade7180f8423792063  688729120858666221208529ee3fc18e   \n",
       "\n",
       "                           Donor ID Donation Included Optional Donation  \\\n",
       "0  1f4b5b6e68445c6c4a0509b3aca93f38                                  No   \n",
       "\n",
       "   Donation Amount  Donor Cart Sequence Donation Received Date  Donation Year  \\\n",
       "0           178.37                   11    2016-08-23 13:15:57           2016   \n",
       "\n",
       "   Donation Month  Donation Day  Donation Weekday   Donor City Donor State  \n",
       "0               8            23                 1  West Jordan        Utah  "
      ]
     },
     "execution_count": 33,
     "metadata": {},
     "output_type": "execute_result"
    }
   ],
   "source": [
    "donations_local.head(1)"
   ]
  },
  {
   "cell_type": "code",
   "execution_count": 35,
   "metadata": {
    "scrolled": false
   },
   "outputs": [
    {
     "data": {
      "text/html": [
       "<div>\n",
       "<style scoped>\n",
       "    .dataframe tbody tr th:only-of-type {\n",
       "        vertical-align: middle;\n",
       "    }\n",
       "\n",
       "    .dataframe tbody tr th {\n",
       "        vertical-align: top;\n",
       "    }\n",
       "\n",
       "    .dataframe thead th {\n",
       "        text-align: right;\n",
       "    }\n",
       "</style>\n",
       "<table border=\"1\" class=\"dataframe\">\n",
       "  <thead>\n",
       "    <tr style=\"text-align: right;\">\n",
       "      <th></th>\n",
       "      <th>Project ID</th>\n",
       "      <th>School ID</th>\n",
       "      <th>Teacher ID</th>\n",
       "      <th>Teacher Project Posted Sequence</th>\n",
       "      <th>Project Type</th>\n",
       "      <th>Project Title</th>\n",
       "      <th>Project Essay</th>\n",
       "      <th>Project Short Description</th>\n",
       "      <th>Project Need Statement</th>\n",
       "      <th>Project Subject Category Tree</th>\n",
       "      <th>...</th>\n",
       "      <th>Project Current Status</th>\n",
       "      <th>Project Fully Funded Date</th>\n",
       "      <th>School Name</th>\n",
       "      <th>School Metro Type</th>\n",
       "      <th>School Percentage Free Lunch</th>\n",
       "      <th>School State</th>\n",
       "      <th>School Zip</th>\n",
       "      <th>School City</th>\n",
       "      <th>School County</th>\n",
       "      <th>School District</th>\n",
       "    </tr>\n",
       "  </thead>\n",
       "  <tbody>\n",
       "    <tr>\n",
       "      <th>0</th>\n",
       "      <td>7685f0265a19d7b52a470ee4bac883ba</td>\n",
       "      <td>e180c7424cb9c68cb49f141b092a988f</td>\n",
       "      <td>4ee5200e89d9e2998ec8baad8a3c5968</td>\n",
       "      <td>25</td>\n",
       "      <td>Teacher-Led</td>\n",
       "      <td>Stand Up to Bullying: Together We Can!</td>\n",
       "      <td>Did you know that 1-7 students in grades K-12 ...</td>\n",
       "      <td>Did you know that 1-7 students in grades K-12 ...</td>\n",
       "      <td>My students need 25 copies of \"Bullying in Sch...</td>\n",
       "      <td>Applied Learning</td>\n",
       "      <td>...</td>\n",
       "      <td>Fully Funded</td>\n",
       "      <td>2013-01-11</td>\n",
       "      <td>Stanford Primary Center</td>\n",
       "      <td>suburban</td>\n",
       "      <td>95.0</td>\n",
       "      <td>California</td>\n",
       "      <td>90280</td>\n",
       "      <td>South Gate</td>\n",
       "      <td>Los Angeles</td>\n",
       "      <td>Los Angeles Unif Sch Dist</td>\n",
       "    </tr>\n",
       "  </tbody>\n",
       "</table>\n",
       "<p>1 rows × 26 columns</p>\n",
       "</div>"
      ],
      "text/plain": [
       "                         Project ID                         School ID  \\\n",
       "0  7685f0265a19d7b52a470ee4bac883ba  e180c7424cb9c68cb49f141b092a988f   \n",
       "\n",
       "                         Teacher ID  Teacher Project Posted Sequence  \\\n",
       "0  4ee5200e89d9e2998ec8baad8a3c5968                               25   \n",
       "\n",
       "  Project Type                           Project Title  \\\n",
       "0  Teacher-Led  Stand Up to Bullying: Together We Can!   \n",
       "\n",
       "                                       Project Essay  \\\n",
       "0  Did you know that 1-7 students in grades K-12 ...   \n",
       "\n",
       "                           Project Short Description  \\\n",
       "0  Did you know that 1-7 students in grades K-12 ...   \n",
       "\n",
       "                              Project Need Statement  \\\n",
       "0  My students need 25 copies of \"Bullying in Sch...   \n",
       "\n",
       "  Project Subject Category Tree            ...              \\\n",
       "0              Applied Learning            ...               \n",
       "\n",
       "  Project Current Status Project Fully Funded Date              School Name  \\\n",
       "0           Fully Funded                2013-01-11  Stanford Primary Center   \n",
       "\n",
       "   School Metro Type School Percentage Free Lunch School State School Zip  \\\n",
       "0           suburban                         95.0   California      90280   \n",
       "\n",
       "  School City School County            School District  \n",
       "0  South Gate   Los Angeles  Los Angeles Unif Sch Dist  \n",
       "\n",
       "[1 rows x 26 columns]"
      ]
     },
     "execution_count": 35,
     "metadata": {},
     "output_type": "execute_result"
    }
   ],
   "source": [
    "projects_local.head(1)"
   ]
  },
  {
   "cell_type": "code",
   "execution_count": 263,
   "metadata": {},
   "outputs": [
    {
     "data": {
      "text/html": [
       "<div>\n",
       "<style scoped>\n",
       "    .dataframe tbody tr th:only-of-type {\n",
       "        vertical-align: middle;\n",
       "    }\n",
       "\n",
       "    .dataframe tbody tr th {\n",
       "        vertical-align: top;\n",
       "    }\n",
       "\n",
       "    .dataframe thead th {\n",
       "        text-align: right;\n",
       "    }\n",
       "</style>\n",
       "<table border=\"1\" class=\"dataframe\">\n",
       "  <thead>\n",
       "    <tr style=\"text-align: right;\">\n",
       "      <th></th>\n",
       "      <th>Project Cost</th>\n",
       "      <th>Project Title</th>\n",
       "      <th>Project Resource Category</th>\n",
       "    </tr>\n",
       "  </thead>\n",
       "  <tbody>\n",
       "    <tr>\n",
       "      <th>1106826</th>\n",
       "      <td>437.78</td>\n",
       "      <td>The World Can Be at Their Fingertips!</td>\n",
       "      <td>Computers &amp; Tablets</td>\n",
       "    </tr>\n",
       "  </tbody>\n",
       "</table>\n",
       "</div>"
      ],
      "text/plain": [
       "         Project Cost                          Project Title  \\\n",
       "1106826        437.78  The World Can Be at Their Fingertips!   \n",
       "\n",
       "        Project Resource Category  \n",
       "1106826       Computers & Tablets  "
      ]
     },
     "execution_count": 263,
     "metadata": {},
     "output_type": "execute_result"
    }
   ],
   "source": []
  },
  {
   "cell_type": "code",
   "execution_count": 36,
   "metadata": {},
   "outputs": [
    {
     "data": {
      "text/plain": [
       "1110003"
      ]
     },
     "execution_count": 36,
     "metadata": {},
     "output_type": "execute_result"
    }
   ],
   "source": [
    "len(projects_local)"
   ]
  },
  {
   "cell_type": "code",
   "execution_count": 9,
   "metadata": {
    "scrolled": true
   },
   "outputs": [
    {
     "data": {
      "text/html": [
       "<div>\n",
       "<style scoped>\n",
       "    .dataframe tbody tr th:only-of-type {\n",
       "        vertical-align: middle;\n",
       "    }\n",
       "\n",
       "    .dataframe tbody tr th {\n",
       "        vertical-align: top;\n",
       "    }\n",
       "\n",
       "    .dataframe thead th {\n",
       "        text-align: right;\n",
       "    }\n",
       "</style>\n",
       "<table border=\"1\" class=\"dataframe\">\n",
       "  <thead>\n",
       "    <tr style=\"text-align: right;\">\n",
       "      <th></th>\n",
       "      <th>Project ID</th>\n",
       "      <th>Donation ID</th>\n",
       "      <th>Donor ID</th>\n",
       "      <th>Donation Included Optional Donation</th>\n",
       "      <th>Donation Amount</th>\n",
       "      <th>Donor Cart Sequence</th>\n",
       "      <th>Donation Received Date</th>\n",
       "      <th>Donation Year</th>\n",
       "      <th>Donation Month</th>\n",
       "      <th>Donation Day</th>\n",
       "      <th>Donation Weekday</th>\n",
       "      <th>Donor City</th>\n",
       "      <th>Donor State</th>\n",
       "      <th>School City</th>\n",
       "      <th>School State</th>\n",
       "      <th>Project Current Status</th>\n",
       "    </tr>\n",
       "  </thead>\n",
       "  <tbody>\n",
       "    <tr>\n",
       "      <th>0</th>\n",
       "      <td>000009891526c0ade7180f8423792063</td>\n",
       "      <td>688729120858666221208529ee3fc18e</td>\n",
       "      <td>1f4b5b6e68445c6c4a0509b3aca93f38</td>\n",
       "      <td>No</td>\n",
       "      <td>178.37</td>\n",
       "      <td>11</td>\n",
       "      <td>2016-08-23 13:15:57</td>\n",
       "      <td>2016</td>\n",
       "      <td>8</td>\n",
       "      <td>23</td>\n",
       "      <td>1</td>\n",
       "      <td>West Jordan</td>\n",
       "      <td>Utah</td>\n",
       "      <td>Riverton</td>\n",
       "      <td>Utah</td>\n",
       "      <td>Fully Funded</td>\n",
       "    </tr>\n",
       "  </tbody>\n",
       "</table>\n",
       "</div>"
      ],
      "text/plain": [
       "                         Project ID                       Donation ID  \\\n",
       "0  000009891526c0ade7180f8423792063  688729120858666221208529ee3fc18e   \n",
       "\n",
       "                           Donor ID Donation Included Optional Donation  \\\n",
       "0  1f4b5b6e68445c6c4a0509b3aca93f38                                  No   \n",
       "\n",
       "   Donation Amount  Donor Cart Sequence Donation Received Date  Donation Year  \\\n",
       "0           178.37                   11    2016-08-23 13:15:57           2016   \n",
       "\n",
       "   Donation Month  Donation Day  Donation Weekday   Donor City Donor State  \\\n",
       "0               8            23                 1  West Jordan        Utah   \n",
       "\n",
       "  School City School State Project Current Status  \n",
       "0    Riverton         Utah           Fully Funded  "
      ]
     },
     "execution_count": 9,
     "metadata": {},
     "output_type": "execute_result"
    }
   ],
   "source": [
    "## Merge donor location with school locations\n",
    "donations_local = pd.merge(donations_local, projects_local[[\"School City\", \"School State\", \"Project Current Status\", \"Project ID\"]], on = \"Project ID\")\n",
    "donations_local.head(1)"
   ]
  },
  {
   "cell_type": "code",
   "execution_count": 10,
   "metadata": {},
   "outputs": [
    {
     "data": {
      "text/plain": [
       "4608110"
      ]
     },
     "execution_count": 10,
     "metadata": {},
     "output_type": "execute_result"
    }
   ],
   "source": [
    "len(donations_local)"
   ]
  },
  {
   "cell_type": "markdown",
   "metadata": {},
   "source": [
    "#### Percent of donations from same school city or same school states"
   ]
  },
  {
   "cell_type": "code",
   "execution_count": 18,
   "metadata": {},
   "outputs": [
    {
     "name": "stdout",
     "output_type": "stream",
     "text": [
      "Percent of donations given by a donor from same city as school supported: 0.2565006043692533\n",
      "Percent of donations given by a donor from same state as school supported: 0.6509124131151383\n"
     ]
    }
   ],
   "source": [
    "print(\"Percent of donations given by a donor from same city as school supported:\",\n",
    "(len(donations_local[donations_local[\"Donor City\"] == donations_local[\"School City\"]])/\n",
    "len(donations_local))\n",
    "     )\n",
    "print(\"Percent of donations given by a donor from same state as school supported:\",\n",
    "(len(donations_local[donations_local[\"Donor State\"] == donations_local[\"School State\"]])/\n",
    "len(donations_local))\n",
    "     )"
   ]
  },
  {
   "cell_type": "code",
   "execution_count": 215,
   "metadata": {},
   "outputs": [
    {
     "data": {
      "text/plain": [
       "Text(0.5,0,'Donors and schools states')"
      ]
     },
     "execution_count": 215,
     "metadata": {},
     "output_type": "execute_result"
    },
    {
     "data": {
      "image/png": "[encoded data removed]",
      "text/plain": [
       "<Figure size 720x360 with 2 Axes>"
      ]
     },
     "metadata": {},
     "output_type": "display_data"
    }
   ],
   "source": [
    "plt.figure(figsize = (10,5))\n",
    "plt.subplot(1,2,1)\n",
    "plt.pie([25.6,74.4], labels = ['same city', 'different city'], autopct = '%1.0f%%')\n",
    "plt.xlabel(\"Donors and schools city\")\n",
    "\n",
    "plt.subplot(1,2,2)\n",
    "plt.pie([65.1,34.9], labels = ['same states', 'different states'], autopct = '%1.0f%%')\n",
    "plt.xlabel(\"Donors and schools states\")"
   ]
  },
  {
   "cell_type": "markdown",
   "metadata": {},
   "source": [
    "#### Percent of donations from same school city or same school states for funded projects"
   ]
  },
  {
   "cell_type": "code",
   "execution_count": 44,
   "metadata": {},
   "outputs": [
    {
     "name": "stdout",
     "output_type": "stream",
     "text": [
      "Percent of donations given by a donor from same city as school supported for funded projects: 0.25309801561565304\n",
      "Percent of donations given by a donor from same state as school supported for funded projects: 0.6417630606967702\n"
     ]
    }
   ],
   "source": [
    "print(\"Percent of donations given by a donor from same city as school supported for funded projects:\",\n",
    "(len(donations_local[(donations_local[\"Donor City\"] == donations_local[\"School City\"]) \n",
    "                     & (donations_local[\"Project Current Status\"]==\"Fully Funded\")])/\n",
    "len(donations_local[donations_local[\"Project Current Status\"]== \"Fully Funded\"]))\n",
    "     )\n",
    "     \n",
    "print(\"Percent of donations given by a donor from same state as school supported for funded projects:\",\n",
    "(len(donations_local[(donations_local[\"Donor State\"] == donations_local[\"School State\"])\n",
    "                     & (donations_local[\"Project Current Status\"]==\"Fully Funded\")])/\n",
    "len(donations_local[donations_local[\"Project Current Status\"]== \"Fully Funded\"]))\n",
    "     )"
   ]
  },
  {
   "cell_type": "markdown",
   "metadata": {},
   "source": [
    "#### Percent of donations from same school city or same school states for expired projects"
   ]
  },
  {
   "cell_type": "code",
   "execution_count": 45,
   "metadata": {},
   "outputs": [
    {
     "name": "stdout",
     "output_type": "stream",
     "text": [
      "Percent of donations given by a donor from same city as school supported for expired projects: 0.288785959060819\n",
      "Percent of donations given by a donor from same state as school supported for expired projects: 0.7434488158550351\n"
     ]
    }
   ],
   "source": [
    "print(\"Percent of donations given by a donor from same city as school supported for expired projects:\",\n",
    "(len(donations_local[(donations_local[\"Donor City\"] == donations_local[\"School City\"]) \n",
    "                     & (donations_local[\"Project Current Status\"]==\"Expired\")])/\n",
    "len(donations_local[donations_local[\"Project Current Status\"]== \"Expired\"]))\n",
    "     )\n",
    "     \n",
    "print(\"Percent of donations given by a donor from same state as school supported for expired projects:\",\n",
    "(len(donations_local[(donations_local[\"Donor State\"] == donations_local[\"School State\"])\n",
    "                     & (donations_local[\"Project Current Status\"]==\"Expired\")])/\n",
    "len(donations_local[donations_local[\"Project Current Status\"]== \"Expired\"]))\n",
    "     )"
   ]
  },
  {
   "cell_type": "markdown",
   "metadata": {},
   "source": [
    "## Summary of insights derived from EDA"
   ]
  },
  {
   "cell_type": "markdown",
   "metadata": {},
   "source": [
    "1) Average number of donation is 6.31 for teacher donor and 1.75 for non-teacher donor."
   ]
  },
  {
   "cell_type": "markdown",
   "metadata": {},
   "source": [
    "2) Average donation amount is 61 while average project cost is 742. Non teacher donors have a higher average donation than teacher donors"
   ]
  },
  {
   "cell_type": "markdown",
   "metadata": {},
   "source": [
    "3) Teacher donors are less likely to include optional donation to DonorChoose, presumbly because they are more aware of the specific need of a project and want all the funds to go towards the projects"
   ]
  },
  {
   "cell_type": "markdown",
   "metadata": {},
   "source": [
    "4) May, June, July have the least number of donations. Maybe due to people going on summer vacations or public school not in session during summer break"
   ]
  },
  {
   "cell_type": "markdown",
   "metadata": {},
   "source": [
    "5) Average project cost for fully funded projects and expired projects are 695 and 1045 respectively"
   ]
  },
  {
   "cell_type": "markdown",
   "metadata": {},
   "source": [
    "6) project resource involving technology is less likely to get fully funded. Average technology project costs 1000, compared to supplies projects which costs 600"
   ]
  },
  {
   "cell_type": "markdown",
   "metadata": {},
   "source": [
    "7) Most of the projects are for younger grade levels, but grade level is not a contributing factor influencing the likelihood of a project getting fully funded"
   ]
  },
  {
   "cell_type": "markdown",
   "metadata": {},
   "source": [
    "8) On average 25% of donations come from donors in same city and 65% of donations from donors in same state as the school receiving funds "
   ]
  },
  {
   "cell_type": "markdown",
   "metadata": {},
   "source": [
    "## Preprocessing on Dataset"
   ]
  },
  {
   "cell_type": "markdown",
   "metadata": {},
   "source": [
    "### Create donor and project interaction matrix"
   ]
  },
  {
   "cell_type": "code",
   "execution_count": 93,
   "metadata": {},
   "outputs": [],
   "source": [
    "## Merge donation and donors df\n",
    "donation_donor = donations_raw.merge(donors_raw, on = \"Donor ID\", how = \"inner\")\n",
    "\n",
    "## Merge project and school df\n",
    "projects_df = projects_raw.merge(schools_raw, on = \"School ID\", how = \"inner\")\n"
   ]
  },
  {
   "cell_type": "code",
   "execution_count": 94,
   "metadata": {},
   "outputs": [],
   "source": [
    "## create project posted year feature\n",
    "projects_df[\"Posted Year\"] = projects_df[\"Project Posted Date\"].dt.year"
   ]
  },
  {
   "cell_type": "code",
   "execution_count": 96,
   "metadata": {},
   "outputs": [],
   "source": [
    "## create a master df and a user df with just projects from 2017 from Texas, \n",
    "## since on average 65% donation comes from in state\n",
    "master_df = projects_df.merge(donation_donor, on = \"Project ID\", how = \"inner\")\n",
    "users_2017 = master_df[(master_df[\"Donor Is Teacher\"] == \"No\") &\n",
    "                              (master_df[\"Posted Year\"] == 2017) & \n",
    "                       (master_df[\"School State\"]== \"Texas\")].reset_index()"
   ]
  },
  {
   "cell_type": "code",
   "execution_count": 97,
   "metadata": {},
   "outputs": [
    {
     "name": "stdout",
     "output_type": "stream",
     "text": [
      "<class 'pandas.core.frame.DataFrame'>\n",
      "RangeIndex: 47348 entries, 0 to 47347\n",
      "Data columns (total 41 columns):\n",
      "index                                  47348 non-null int64\n",
      "Project ID                             47348 non-null object\n",
      "School ID                              47348 non-null object\n",
      "Teacher ID                             47348 non-null object\n",
      "Teacher Project Posted Sequence        47348 non-null int64\n",
      "Project Type                           47348 non-null object\n",
      "Project Title                          47348 non-null object\n",
      "Project Essay                          47348 non-null object\n",
      "Project Short Description              47348 non-null object\n",
      "Project Need Statement                 47348 non-null object\n",
      "Project Subject Category Tree          47348 non-null object\n",
      "Project Subject Subcategory Tree       47348 non-null object\n",
      "Project Grade Level Category           47348 non-null object\n",
      "Project Resource Category              47348 non-null object\n",
      "Project Cost                           47348 non-null float64\n",
      "Project Posted Date                    47348 non-null datetime64[ns]\n",
      "Project Expiration Date                47348 non-null datetime64[ns]\n",
      "Project Current Status                 47348 non-null object\n",
      "Project Fully Funded Date              43468 non-null datetime64[ns]\n",
      "School Name                            47348 non-null object\n",
      "School Metro Type                      47348 non-null object\n",
      "School Percentage Free Lunch           46609 non-null float64\n",
      "School State                           47348 non-null object\n",
      "School Zip                             47348 non-null int64\n",
      "School City                            47348 non-null object\n",
      "School County                          47348 non-null object\n",
      "School District                        47348 non-null object\n",
      "Posted Year                            47348 non-null int64\n",
      "Donation ID                            47348 non-null object\n",
      "Donor ID                               47348 non-null object\n",
      "Donation Included Optional Donation    47348 non-null object\n",
      "Donation Amount                        47348 non-null float64\n",
      "Donor Cart Sequence                    47348 non-null int64\n",
      "Donation Received Date                 47348 non-null datetime64[ns]\n",
      "Donation Year                          47348 non-null int64\n",
      "Donation Month                         47348 non-null int64\n",
      "Donation Day                           47348 non-null int64\n",
      "Donation Weekday                       47348 non-null int64\n",
      "Donor City                             45828 non-null object\n",
      "Donor State                            47348 non-null object\n",
      "Donor Is Teacher                       47348 non-null object\n",
      "dtypes: datetime64[ns](4), float64(3), int64(9), object(25)\n",
      "memory usage: 14.8+ MB\n"
     ]
    }
   ],
   "source": [
    "users_2017.info()"
   ]
  },
  {
   "cell_type": "code",
   "execution_count": 98,
   "metadata": {},
   "outputs": [
    {
     "data": {
      "text/plain": [
       "220"
      ]
     },
     "execution_count": 98,
     "metadata": {},
     "output_type": "execute_result"
    }
   ],
   "source": [
    "del donation_donor, master_df, projects_df\n",
    "gc.collect()"
   ]
  },
  {
   "cell_type": "code",
   "execution_count": 130,
   "metadata": {},
   "outputs": [],
   "source": [
    "## create the interaction data frames\n",
    "interactions = users_2017[[\"Project ID\", \"Donor ID\", \"Donation Amount\"]]\n",
    "interactions [\"interaction_score_2\"] = np.log(interactions[\"Donation Amount\"])"
   ]
  },
  {
   "cell_type": "code",
   "execution_count": 136,
   "metadata": {},
   "outputs": [
    {
     "data": {
      "text/html": [
       "<div>\n",
       "<style scoped>\n",
       "    .dataframe tbody tr th:only-of-type {\n",
       "        vertical-align: middle;\n",
       "    }\n",
       "\n",
       "    .dataframe tbody tr th {\n",
       "        vertical-align: top;\n",
       "    }\n",
       "\n",
       "    .dataframe thead th {\n",
       "        text-align: right;\n",
       "    }\n",
       "</style>\n",
       "<table border=\"1\" class=\"dataframe\">\n",
       "  <thead>\n",
       "    <tr style=\"text-align: right;\">\n",
       "      <th></th>\n",
       "      <th>Project ID</th>\n",
       "      <th>Donor ID</th>\n",
       "      <th>Donation Amount</th>\n",
       "      <th>interaction_score_2</th>\n",
       "    </tr>\n",
       "  </thead>\n",
       "  <tbody>\n",
       "    <tr>\n",
       "      <th>0</th>\n",
       "      <td>7080d135d3217a181bed6aedc7cd7d31</td>\n",
       "      <td>157eba024ff4fe872c628a4a8055d54b</td>\n",
       "      <td>193.1</td>\n",
       "      <td>5.263208</td>\n",
       "    </tr>\n",
       "    <tr>\n",
       "      <th>1</th>\n",
       "      <td>c2b17952017f359a45ee57e369900169</td>\n",
       "      <td>7c0705820b41a2fdb290ba8a6c3fea2f</td>\n",
       "      <td>20.0</td>\n",
       "      <td>2.995732</td>\n",
       "    </tr>\n",
       "    <tr>\n",
       "      <th>2</th>\n",
       "      <td>c2b17952017f359a45ee57e369900169</td>\n",
       "      <td>d154ab806fe2786a327e54f2acbd057a</td>\n",
       "      <td>50.0</td>\n",
       "      <td>3.912023</td>\n",
       "    </tr>\n",
       "    <tr>\n",
       "      <th>3</th>\n",
       "      <td>c2b17952017f359a45ee57e369900169</td>\n",
       "      <td>8fc29f26b90d0e25c11210a560c3afbf</td>\n",
       "      <td>40.0</td>\n",
       "      <td>3.688879</td>\n",
       "    </tr>\n",
       "    <tr>\n",
       "      <th>4</th>\n",
       "      <td>c2b17952017f359a45ee57e369900169</td>\n",
       "      <td>85a9ac2eeee066c6baba69d733502007</td>\n",
       "      <td>50.0</td>\n",
       "      <td>3.912023</td>\n",
       "    </tr>\n",
       "  </tbody>\n",
       "</table>\n",
       "</div>"
      ],
      "text/plain": [
       "                         Project ID                          Donor ID  \\\n",
       "0  7080d135d3217a181bed6aedc7cd7d31  157eba024ff4fe872c628a4a8055d54b   \n",
       "1  c2b17952017f359a45ee57e369900169  7c0705820b41a2fdb290ba8a6c3fea2f   \n",
       "2  c2b17952017f359a45ee57e369900169  d154ab806fe2786a327e54f2acbd057a   \n",
       "3  c2b17952017f359a45ee57e369900169  8fc29f26b90d0e25c11210a560c3afbf   \n",
       "4  c2b17952017f359a45ee57e369900169  85a9ac2eeee066c6baba69d733502007   \n",
       "\n",
       "   Donation Amount  interaction_score_2  \n",
       "0            193.1             5.263208  \n",
       "1             20.0             2.995732  \n",
       "2             50.0             3.912023  \n",
       "3             40.0             3.688879  \n",
       "4             50.0             3.912023  "
      ]
     },
     "execution_count": 136,
     "metadata": {},
     "output_type": "execute_result"
    }
   ],
   "source": [
    "interactions.head(5)"
   ]
  },
  {
   "cell_type": "markdown",
   "metadata": {},
   "source": [
    "### Create donor and project embedding"
   ]
  },
  {
   "cell_type": "code",
   "execution_count": 161,
   "metadata": {},
   "outputs": [],
   "source": [
    "## create a donor map (dictionary)\n",
    "\n",
    "unique_donors = list(interactions[\"Donor ID\"].value_counts().index)\n",
    "donor_map = {}\n",
    "for i, user in enumerate(unique_donors):\n",
    "    donor_map[user] = i+1\n",
    "\n",
    "## creat a project map (dictionary)\n",
    "unique_projs = list(interactions[\"Project ID\"].value_counts().index)\n",
    "proj_map = {}\n",
    "for i, proj in enumerate(unique_projs):\n",
    "    proj_map[proj] = i+1\n",
    "    \n",
    "tags = {\"donors\": donor_map, \"projects\": proj_map}"
   ]
  },
  {
   "cell_type": "code",
   "execution_count": 162,
   "metadata": {},
   "outputs": [],
   "source": [
    "## apply maps to convert donor and project ID to integers\n",
    "def getID(ID, tag):\n",
    "    return tags[tag][ID]\n",
    "\n",
    "interactions[\"donor_id\"] = interactions[\"Donor ID\"].apply(lambda x: getID(x, \"donors\"))\n",
    "\n",
    "interactions[\"proj_id\"] = interactions[\"Project ID\"].apply(lambda x: getID(x, \"projects\"))\n"
   ]
  },
  {
   "cell_type": "code",
   "execution_count": 165,
   "metadata": {},
   "outputs": [],
   "source": [
    "## remove the duplicates entries and define max donor and project numbers\n",
    "\n",
    "max_donor_id = interactions[\"donor_id\"].drop_duplicates().max()\n",
    "max_proj_id = interactions[\"proj_id\"].drop_duplicates().max()\n"
   ]
  },
  {
   "cell_type": "code",
   "execution_count": 166,
   "metadata": {},
   "outputs": [],
   "source": [
    "## random shuffling on the dataset, use 50% of dataset\n",
    "\n",
    "shuffled_interactions = interactions.sample(frac=1., random_state = 153)\n",
    "PastDonors = shuffled_interactions[\"donor_id\"].values\n",
    "PastProjects = shuffled_interactions[\"proj_id\"].values\n",
    "Interactions = shuffled_interactions[\"interaction_score_2\"].values"
   ]
  },
  {
   "cell_type": "markdown",
   "metadata": {},
   "source": [
    "## Create model"
   ]
  },
  {
   "cell_type": "code",
   "execution_count": 167,
   "metadata": {},
   "outputs": [],
   "source": [
    "## define deep nets artchitecture\n",
    "\n",
    "def create_model(n_donors, m_projects, embedding_size):\n",
    "    ## create dense net input layers\n",
    "    donor_id_input = Input(shape = [1], name = \"donor\")\n",
    "    project_id_input = Input(shape = [1], name = \"project\")\n",
    "    \n",
    "    ## create donor and project embedding layers\n",
    "    donor_embedding = Embedding(output_dim = embedding_size,\n",
    "                               input_dim = n_donors+1, input_length = 1,\n",
    "                               name = \"donor_embedding\")(donor_id_input)\n",
    "    project_embedding = Embedding(output_dim = embedding_size,\n",
    "                               input_dim = m_projects+1, input_length = 1,\n",
    "                               name = \"project_embedding\")(project_id_input)\n",
    "    \n",
    "    ## reshape embedding and concatenate to one input\n",
    "    donor_vec = Reshape([embedding_size])(donor_embedding)\n",
    "    project_vec = Reshape([embedding_size])(project_embedding)\n",
    "    input_vec = Concatenate()([donor_vec,project_vec])\n",
    "    \n",
    "    ## add a dense layer and an output layer\n",
    "    x = Dense(128, activation = \"relu\")(input_vec)\n",
    "    y = Dense(1)(x)\n",
    "    ## create the model\n",
    "    model = Model(inputs = [donor_id_input, project_id_input], outputs =y)\n",
    "    ## compile model and add optimizer and loss function\n",
    "    model.compile(optimizer = \"adam\", loss = \"mse\")\n",
    "    return model"
   ]
  },
  {
   "cell_type": "code",
   "execution_count": 168,
   "metadata": {},
   "outputs": [],
   "source": [
    "## obtain the model\n",
    "embedding_size = 10\n",
    "model = create_model(max_donor_id, max_proj_id, embedding_size)"
   ]
  },
  {
   "cell_type": "code",
   "execution_count": 169,
   "metadata": {},
   "outputs": [
    {
     "name": "stdout",
     "output_type": "stream",
     "text": [
      "__________________________________________________________________________________________________\n",
      "Layer (type)                    Output Shape         Param #     Connected to                     \n",
      "==================================================================================================\n",
      "donor (InputLayer)              (None, 1)            0                                            \n",
      "__________________________________________________________________________________________________\n",
      "project (InputLayer)            (None, 1)            0                                            \n",
      "__________________________________________________________________________________________________\n",
      "donor_embedding (Embedding)     (None, 1, 10)        339940      donor[0][0]                      \n",
      "__________________________________________________________________________________________________\n",
      "project_embedding (Embedding)   (None, 1, 10)        136590      project[0][0]                    \n",
      "__________________________________________________________________________________________________\n",
      "reshape_13 (Reshape)            (None, 10)           0           donor_embedding[0][0]            \n",
      "__________________________________________________________________________________________________\n",
      "reshape_14 (Reshape)            (None, 10)           0           project_embedding[0][0]          \n",
      "__________________________________________________________________________________________________\n",
      "concatenate_7 (Concatenate)     (None, 20)           0           reshape_13[0][0]                 \n",
      "                                                                 reshape_14[0][0]                 \n",
      "__________________________________________________________________________________________________\n",
      "dense_13 (Dense)                (None, 128)          2688        concatenate_7[0][0]              \n",
      "__________________________________________________________________________________________________\n",
      "dense_14 (Dense)                (None, 1)            129         dense_13[0][0]                   \n",
      "==================================================================================================\n",
      "Total params: 479,347\n",
      "Trainable params: 479,347\n",
      "Non-trainable params: 0\n",
      "__________________________________________________________________________________________________\n"
     ]
    }
   ],
   "source": [
    "model.summary()"
   ]
  },
  {
   "cell_type": "code",
   "execution_count": 170,
   "metadata": {},
   "outputs": [],
   "source": [
    "## create function to generate interaction score\n",
    "def rate(model, donor_id, proj_id):\n",
    "    return model.predict([np.array([donor_id]), np.array([proj_id])])[0][0]\n",
    "def predict_score(donor_id, proj_id):\n",
    "    return rate(model, donor_id-1, proj_id-1)"
   ]
  },
  {
   "cell_type": "markdown",
   "metadata": {},
   "source": [
    "## Train model"
   ]
  },
  {
   "cell_type": "code",
   "execution_count": 171,
   "metadata": {
    "scrolled": true
   },
   "outputs": [
    {
     "name": "stdout",
     "output_type": "stream",
     "text": [
      "Train on 35511 samples, validate on 11837 samples\n",
      "Epoch 1/2\n",
      "35511/35511 [==============================] - ETA: 8:41 - loss: 15.31 - ETA: 1:04 - loss: 14.49 - ETA: 39s - loss: 14.4872 - ETA: 29s - loss: 14.197 - ETA: 25s - loss: 13.774 - ETA: 22s - loss: 13.481 - ETA: 20s - loss: 13.024 - ETA: 18s - loss: 12.612 - ETA: 17s - loss: 12.358 - ETA: 16s - loss: 12.037 - ETA: 15s - loss: 11.757 - ETA: 15s - loss: 11.482 - ETA: 14s - loss: 11.109 - ETA: 14s - loss: 10.771 - ETA: 14s - loss: 10.504 - ETA: 13s - loss: 10.220 - ETA: 13s - loss: 9.835 - ETA: 13s - loss: 9.51 - ETA: 12s - loss: 9.19 - ETA: 12s - loss: 8.84 - ETA: 12s - loss: 8.52 - ETA: 11s - loss: 8.24 - ETA: 11s - loss: 7.92 - ETA: 11s - loss: 7.67 - ETA: 11s - loss: 7.43 - ETA: 10s - loss: 7.17 - ETA: 10s - loss: 6.96 - ETA: 10s - loss: 6.72 - ETA: 10s - loss: 6.55 - ETA: 10s - loss: 6.34 - ETA: 10s - loss: 6.18 - ETA: 9s - loss: 6.0232 - ETA: 9s - loss: 5.857 - ETA: 9s - loss: 5.722 - ETA: 9s - loss: 5.590 - ETA: 9s - loss: 5.464 - ETA: 9s - loss: 5.330 - ETA: 9s - loss: 5.230 - ETA: 9s - loss: 5.131 - ETA: 8s - loss: 5.011 - ETA: 8s - loss: 4.912 - ETA: 8s - loss: 4.823 - ETA: 8s - loss: 4.741 - ETA: 8s - loss: 4.659 - ETA: 8s - loss: 4.583 - ETA: 8s - loss: 4.504 - ETA: 8s - loss: 4.424 - ETA: 8s - loss: 4.361 - ETA: 8s - loss: 4.306 - ETA: 8s - loss: 4.239 - ETA: 7s - loss: 4.186 - ETA: 7s - loss: 4.122 - ETA: 7s - loss: 4.057 - ETA: 7s - loss: 4.002 - ETA: 7s - loss: 3.947 - ETA: 7s - loss: 3.882 - ETA: 7s - loss: 3.822 - ETA: 7s - loss: 3.772 - ETA: 7s - loss: 3.726 - ETA: 7s - loss: 3.667 - ETA: 7s - loss: 3.611 - ETA: 6s - loss: 3.572 - ETA: 6s - loss: 3.532 - ETA: 6s - loss: 3.494 - ETA: 6s - loss: 3.453 - ETA: 6s - loss: 3.418 - ETA: 6s - loss: 3.382 - ETA: 6s - loss: 3.347 - ETA: 6s - loss: 3.316 - ETA: 6s - loss: 3.281 - ETA: 6s - loss: 3.246 - ETA: 6s - loss: 3.212 - ETA: 6s - loss: 3.181 - ETA: 6s - loss: 3.149 - ETA: 6s - loss: 3.115 - ETA: 5s - loss: 3.089 - ETA: 5s - loss: 3.063 - ETA: 5s - loss: 3.035 - ETA: 5s - loss: 3.005 - ETA: 5s - loss: 2.975 - ETA: 5s - loss: 2.949 - ETA: 5s - loss: 2.923 - ETA: 5s - loss: 2.901 - ETA: 5s - loss: 2.873 - ETA: 5s - loss: 2.855 - ETA: 5s - loss: 2.830 - ETA: 5s - loss: 2.811 - ETA: 5s - loss: 2.787 - ETA: 5s - loss: 2.764 - ETA: 4s - loss: 2.746 - ETA: 4s - loss: 2.723 - ETA: 4s - loss: 2.706 - ETA: 4s - loss: 2.690 - ETA: 4s - loss: 2.668 - ETA: 4s - loss: 2.651 - ETA: 4s - loss: 2.635 - ETA: 4s - loss: 2.616 - ETA: 4s - loss: 2.596 - ETA: 4s - loss: 2.578 - ETA: 4s - loss: 2.560 - ETA: 4s - loss: 2.543 - ETA: 4s - loss: 2.525 - ETA: 4s - loss: 2.510 - ETA: 4s - loss: 2.494 - ETA: 4s - loss: 2.480 - ETA: 3s - loss: 2.464 - ETA: 3s - loss: 2.449 - ETA: 3s - loss: 2.430 - ETA: 3s - loss: 2.416 - ETA: 3s - loss: 2.400 - ETA: 3s - loss: 2.385 - ETA: 3s - loss: 2.374 - ETA: 3s - loss: 2.358 - ETA: 3s - loss: 2.346 - ETA: 3s - loss: 2.334 - ETA: 3s - loss: 2.320 - ETA: 3s - loss: 2.307 - ETA: 3s - loss: 2.293 - ETA: 3s - loss: 2.281 - ETA: 3s - loss: 2.269 - ETA: 3s - loss: 2.255 - ETA: 2s - loss: 2.244 - ETA: 2s - loss: 2.232 - ETA: 2s - loss: 2.219 - ETA: 2s - loss: 2.207 - ETA: 2s - loss: 2.198 - ETA: 2s - loss: 2.187 - ETA: 2s - loss: 2.175 - ETA: 2s - loss: 2.165 - ETA: 2s - loss: 2.153 - ETA: 2s - loss: 2.142 - ETA: 2s - loss: 2.135 - ETA: 2s - loss: 2.125 - ETA: 2s - loss: 2.118 - ETA: 2s - loss: 2.108 - ETA: 2s - loss: 2.098 - ETA: 2s - loss: 2.090 - ETA: 2s - loss: 2.081 - ETA: 1s - loss: 2.071 - ETA: 1s - loss: 2.063 - ETA: 1s - loss: 2.053 - ETA: 1s - loss: 2.044 - ETA: 1s - loss: 2.035 - ETA: 1s - loss: 2.027 - ETA: 1s - loss: 2.019 - ETA: 1s - loss: 2.012 - ETA: 1s - loss: 2.003 - ETA: 1s - loss: 1.994 - ETA: 1s - loss: 1.987 - ETA: 1s - loss: 1.980 - ETA: 1s - loss: 1.972 - ETA: 1s - loss: 1.967 - ETA: 1s - loss: 1.959 - ETA: 1s - loss: 1.951 - ETA: 1s - loss: 1.943 - ETA: 0s - loss: 1.937 - ETA: 0s - loss: 1.929 - ETA: 0s - loss: 1.921 - ETA: 0s - loss: 1.915 - ETA: 0s - loss: 1.906 - ETA: 0s - loss: 1.899 - ETA: 0s - loss: 1.894 - ETA: 0s - loss: 1.889 - ETA: 0s - loss: 1.882 - ETA: 0s - loss: 1.876 - ETA: 0s - loss: 1.869 - ETA: 0s - loss: 1.861 - ETA: 0s - loss: 1.854 - ETA: 0s - loss: 1.848 - ETA: 0s - loss: 1.843 - ETA: 0s - loss: 1.838 - ETA: 0s - loss: 1.832 - ETA: 0s - loss: 1.827 - 10s 282us/step - loss: 1.8259 - val_loss: 0.7812\n",
      "Epoch 2/2\n"
     ]
    },
    {
     "name": "stdout",
     "output_type": "stream",
     "text": [
      "35511/35511 [==============================] - ETA: 9s - loss: 0.373 - ETA: 9s - loss: 0.493 - ETA: 8s - loss: 0.478 - ETA: 8s - loss: 0.508 - ETA: 8s - loss: 0.490 - ETA: 8s - loss: 0.487 - ETA: 8s - loss: 0.490 - ETA: 8s - loss: 0.469 - ETA: 8s - loss: 0.456 - ETA: 8s - loss: 0.453 - ETA: 8s - loss: 0.454 - ETA: 8s - loss: 0.456 - ETA: 8s - loss: 0.449 - ETA: 8s - loss: 0.445 - ETA: 8s - loss: 0.445 - ETA: 8s - loss: 0.447 - ETA: 8s - loss: 0.440 - ETA: 8s - loss: 0.440 - ETA: 8s - loss: 0.443 - ETA: 8s - loss: 0.438 - ETA: 7s - loss: 0.432 - ETA: 7s - loss: 0.431 - ETA: 7s - loss: 0.430 - ETA: 7s - loss: 0.438 - ETA: 7s - loss: 0.438 - ETA: 7s - loss: 0.439 - ETA: 7s - loss: 0.439 - ETA: 7s - loss: 0.438 - ETA: 7s - loss: 0.436 - ETA: 7s - loss: 0.434 - ETA: 7s - loss: 0.433 - ETA: 7s - loss: 0.433 - ETA: 7s - loss: 0.435 - ETA: 7s - loss: 0.435 - ETA: 7s - loss: 0.434 - ETA: 7s - loss: 0.435 - ETA: 7s - loss: 0.437 - ETA: 7s - loss: 0.434 - ETA: 7s - loss: 0.438 - ETA: 7s - loss: 0.439 - ETA: 7s - loss: 0.439 - ETA: 6s - loss: 0.437 - ETA: 6s - loss: 0.437 - ETA: 6s - loss: 0.435 - ETA: 6s - loss: 0.436 - ETA: 6s - loss: 0.438 - ETA: 6s - loss: 0.439 - ETA: 6s - loss: 0.441 - ETA: 6s - loss: 0.441 - ETA: 6s - loss: 0.443 - ETA: 6s - loss: 0.440 - ETA: 6s - loss: 0.440 - ETA: 6s - loss: 0.440 - ETA: 6s - loss: 0.441 - ETA: 6s - loss: 0.443 - ETA: 6s - loss: 0.442 - ETA: 6s - loss: 0.442 - ETA: 5s - loss: 0.441 - ETA: 5s - loss: 0.443 - ETA: 5s - loss: 0.442 - ETA: 5s - loss: 0.445 - ETA: 5s - loss: 0.446 - ETA: 5s - loss: 0.445 - ETA: 5s - loss: 0.447 - ETA: 5s - loss: 0.446 - ETA: 5s - loss: 0.446 - ETA: 5s - loss: 0.447 - ETA: 5s - loss: 0.449 - ETA: 5s - loss: 0.451 - ETA: 5s - loss: 0.449 - ETA: 5s - loss: 0.448 - ETA: 5s - loss: 0.447 - ETA: 5s - loss: 0.447 - ETA: 5s - loss: 0.449 - ETA: 5s - loss: 0.451 - ETA: 4s - loss: 0.449 - ETA: 4s - loss: 0.449 - ETA: 4s - loss: 0.449 - ETA: 4s - loss: 0.449 - ETA: 4s - loss: 0.449 - ETA: 4s - loss: 0.448 - ETA: 4s - loss: 0.448 - ETA: 4s - loss: 0.449 - ETA: 4s - loss: 0.449 - ETA: 4s - loss: 0.451 - ETA: 4s - loss: 0.452 - ETA: 4s - loss: 0.452 - ETA: 4s - loss: 0.453 - ETA: 4s - loss: 0.453 - ETA: 4s - loss: 0.451 - ETA: 4s - loss: 0.451 - ETA: 4s - loss: 0.448 - ETA: 3s - loss: 0.451 - ETA: 3s - loss: 0.451 - ETA: 3s - loss: 0.451 - ETA: 3s - loss: 0.449 - ETA: 3s - loss: 0.450 - ETA: 3s - loss: 0.450 - ETA: 3s - loss: 0.449 - ETA: 3s - loss: 0.449 - ETA: 3s - loss: 0.449 - ETA: 3s - loss: 0.448 - ETA: 3s - loss: 0.448 - ETA: 3s - loss: 0.448 - ETA: 3s - loss: 0.449 - ETA: 3s - loss: 0.448 - ETA: 3s - loss: 0.448 - ETA: 3s - loss: 0.448 - ETA: 3s - loss: 0.448 - ETA: 3s - loss: 0.447 - ETA: 2s - loss: 0.447 - ETA: 2s - loss: 0.447 - ETA: 2s - loss: 0.448 - ETA: 2s - loss: 0.448 - ETA: 2s - loss: 0.447 - ETA: 2s - loss: 0.448 - ETA: 2s - loss: 0.448 - ETA: 2s - loss: 0.447 - ETA: 2s - loss: 0.448 - ETA: 2s - loss: 0.447 - ETA: 2s - loss: 0.447 - ETA: 2s - loss: 0.448 - ETA: 2s - loss: 0.448 - ETA: 2s - loss: 0.449 - ETA: 2s - loss: 0.449 - ETA: 2s - loss: 0.449 - ETA: 2s - loss: 0.449 - ETA: 2s - loss: 0.448 - ETA: 2s - loss: 0.449 - ETA: 2s - loss: 0.448 - ETA: 2s - loss: 0.448 - ETA: 1s - loss: 0.448 - ETA: 1s - loss: 0.448 - ETA: 1s - loss: 0.448 - ETA: 1s - loss: 0.448 - ETA: 1s - loss: 0.447 - ETA: 1s - loss: 0.447 - ETA: 1s - loss: 0.447 - ETA: 1s - loss: 0.447 - ETA: 1s - loss: 0.447 - ETA: 1s - loss: 0.448 - ETA: 1s - loss: 0.447 - ETA: 1s - loss: 0.448 - ETA: 1s - loss: 0.448 - ETA: 1s - loss: 0.448 - ETA: 1s - loss: 0.448 - ETA: 1s - loss: 0.448 - ETA: 1s - loss: 0.449 - ETA: 1s - loss: 0.449 - ETA: 1s - loss: 0.449 - ETA: 1s - loss: 0.448 - ETA: 1s - loss: 0.448 - ETA: 1s - loss: 0.448 - ETA: 1s - loss: 0.449 - ETA: 1s - loss: 0.448 - ETA: 0s - loss: 0.448 - ETA: 0s - loss: 0.448 - ETA: 0s - loss: 0.449 - ETA: 0s - loss: 0.448 - ETA: 0s - loss: 0.448 - ETA: 0s - loss: 0.448 - ETA: 0s - loss: 0.448 - ETA: 0s - loss: 0.450 - ETA: 0s - loss: 0.449 - ETA: 0s - loss: 0.450 - ETA: 0s - loss: 0.450 - ETA: 0s - loss: 0.450 - ETA: 0s - loss: 0.450 - ETA: 0s - loss: 0.451 - ETA: 0s - loss: 0.450 - ETA: 0s - loss: 0.451 - ETA: 0s - loss: 0.451 - ETA: 0s - loss: 0.451 - ETA: 0s - loss: 0.451 - ETA: 0s - loss: 0.451 - ETA: 0s - loss: 0.452 - 10s 274us/step - loss: 0.4521 - val_loss: 0.7503\n"
     ]
    }
   ],
   "source": [
    "history = model.fit([PastDonors, PastProjects], Interactions, nb_epoch =2 , validation_split=.25)"
   ]
  },
  {
   "cell_type": "code",
   "execution_count": 172,
   "metadata": {},
   "outputs": [
    {
     "name": "stdout",
     "output_type": "stream",
     "text": [
      "Min RMSE at epoch 2 = 0.8662\n"
     ]
    }
   ],
   "source": [
    "min_val_loss, idx = min((val, idx) for (idx, val) in \n",
    "                        enumerate(history.history[\"val_loss\"]))\n",
    "print (\"Min RMSE at epoch\", \"{:d}\".format(idx+1), \"=\", \n",
    "       \"{:.4f}\".format(math.sqrt(min_val_loss)))"
   ]
  },
  {
   "cell_type": "markdown",
   "metadata": {},
   "source": [
    "## Generate donor recommendations for projects"
   ]
  },
  {
   "cell_type": "code",
   "execution_count": 173,
   "metadata": {},
   "outputs": [],
   "source": [
    "Past_Donors = users_2017[[\"Donor ID\", \"Donor City\"]]\n",
    "Past_Projects = users_2017[[\"Project ID\", \"Project Title\"]]\n",
    "\n",
    "Past_Donors = Past_Donors.drop_duplicates()\n",
    "Past_Projects = Past_Projects.drop_duplicates()\n",
    "\n",
    "Past_Donors['donor_id'] = Past_Donors['Donor ID'].apply(lambda x : getID(x, 'donors'))\n",
    "Past_Projects['proj_id'] = Past_Projects['Project ID'].apply(lambda x : getID(x, 'projects'))\n",
    "\n",
    "project_list = list(Past_Projects[\"Project ID\"])"
   ]
  },
  {
   "cell_type": "markdown",
   "metadata": {},
   "source": [
    "### Pick a sample project to predict potential donors"
   ]
  },
  {
   "cell_type": "code",
   "execution_count": 155,
   "metadata": {},
   "outputs": [
    {
     "data": {
      "text/html": [
       "<div>\n",
       "<style scoped>\n",
       "    .dataframe tbody tr th:only-of-type {\n",
       "        vertical-align: middle;\n",
       "    }\n",
       "\n",
       "    .dataframe tbody tr th {\n",
       "        vertical-align: top;\n",
       "    }\n",
       "\n",
       "    .dataframe thead th {\n",
       "        text-align: right;\n",
       "    }\n",
       "</style>\n",
       "<table border=\"1\" class=\"dataframe\">\n",
       "  <thead>\n",
       "    <tr style=\"text-align: right;\">\n",
       "      <th></th>\n",
       "      <th>Project ID</th>\n",
       "      <th>Project Title</th>\n",
       "      <th>proj_id</th>\n",
       "    </tr>\n",
       "  </thead>\n",
       "  <tbody>\n",
       "    <tr>\n",
       "      <th>0</th>\n",
       "      <td>7080d135d3217a181bed6aedc7cd7d31</td>\n",
       "      <td>The Art Of Imagination-Using Books to Inspire</td>\n",
       "      <td>12862</td>\n",
       "    </tr>\n",
       "    <tr>\n",
       "      <th>1</th>\n",
       "      <td>c2b17952017f359a45ee57e369900169</td>\n",
       "      <td>Girls Building Worlds</td>\n",
       "      <td>1605</td>\n",
       "    </tr>\n",
       "    <tr>\n",
       "      <th>8</th>\n",
       "      <td>e533884c954acf24d7c7247b8d6f74ed</td>\n",
       "      <td>Let's Read Mentor Texts in Kinder!</td>\n",
       "      <td>7610</td>\n",
       "    </tr>\n",
       "    <tr>\n",
       "      <th>10</th>\n",
       "      <td>62cb80fda87014179a112feb6ec64a15</td>\n",
       "      <td>Reading Made Magic!</td>\n",
       "      <td>7198</td>\n",
       "    </tr>\n",
       "    <tr>\n",
       "      <th>12</th>\n",
       "      <td>1b2f161fcd57e9675e0bde63745e0c1a</td>\n",
       "      <td>A Greyhound and a Groundhog Visit the Art Room</td>\n",
       "      <td>5718</td>\n",
       "    </tr>\n",
       "    <tr>\n",
       "      <th>15</th>\n",
       "      <td>2d0e9442545a20233ed2bcb504cdf603</td>\n",
       "      <td>How Do You Say That Word Teacher?</td>\n",
       "      <td>10997</td>\n",
       "    </tr>\n",
       "    <tr>\n",
       "      <th>16</th>\n",
       "      <td>8fdba59c7b41322e6ae73bc2bf863565</td>\n",
       "      <td>Thesaurus' Expand Vocabulary For English Langu...</td>\n",
       "      <td>2509</td>\n",
       "    </tr>\n",
       "    <tr>\n",
       "      <th>21</th>\n",
       "      <td>0f755cd5bb96891e79c570e380f42919</td>\n",
       "      <td>We are CLOTHED with Dignity and Strength!</td>\n",
       "      <td>6250</td>\n",
       "    </tr>\n",
       "    <tr>\n",
       "      <th>23</th>\n",
       "      <td>e9b7ad45ae8f0fd9346637b988188a56</td>\n",
       "      <td>Don't Judge a Student by Their Clothing</td>\n",
       "      <td>5181</td>\n",
       "    </tr>\n",
       "    <tr>\n",
       "      <th>26</th>\n",
       "      <td>3b75ae71ae283efa8bcb550328f5a5f3</td>\n",
       "      <td>Clothes Can Make the Difference in Our Lives</td>\n",
       "      <td>5595</td>\n",
       "    </tr>\n",
       "    <tr>\n",
       "      <th>29</th>\n",
       "      <td>fe11a1c90d7e02e12b4d5648d00d75db</td>\n",
       "      <td>Looking Good for Success</td>\n",
       "      <td>9424</td>\n",
       "    </tr>\n",
       "    <tr>\n",
       "      <th>30</th>\n",
       "      <td>eb7d6162b71ab364b5283a9ab22ab63f</td>\n",
       "      <td>Looking Good for Success</td>\n",
       "      <td>8763</td>\n",
       "    </tr>\n",
       "    <tr>\n",
       "      <th>31</th>\n",
       "      <td>ea5dde5346f9de85335c40f0423351ba</td>\n",
       "      <td>Clink! Snap! Keep it All Together!</td>\n",
       "      <td>12395</td>\n",
       "    </tr>\n",
       "    <tr>\n",
       "      <th>32</th>\n",
       "      <td>8c556d51ee96a45b8728651aab1b983b</td>\n",
       "      <td>Light It Up and Watch Them Learn!</td>\n",
       "      <td>4688</td>\n",
       "    </tr>\n",
       "    <tr>\n",
       "      <th>35</th>\n",
       "      <td>d24cf338c12d2e77131f12cdf3164835</td>\n",
       "      <td>Looking Good for Success</td>\n",
       "      <td>10977</td>\n",
       "    </tr>\n",
       "    <tr>\n",
       "      <th>36</th>\n",
       "      <td>0c94126bd3b228273bb3ef1090a9f8e8</td>\n",
       "      <td>Rockin' With Our Keyboards!</td>\n",
       "      <td>10235</td>\n",
       "    </tr>\n",
       "    <tr>\n",
       "      <th>37</th>\n",
       "      <td>acaa44205de4a8c9b37dfefe6948e395</td>\n",
       "      <td>Keep Calm and Read On</td>\n",
       "      <td>10511</td>\n",
       "    </tr>\n",
       "    <tr>\n",
       "      <th>38</th>\n",
       "      <td>e1c2de8ad049a6c0b96d260cf8af0325</td>\n",
       "      <td>Looking Good Feeling Good</td>\n",
       "      <td>5591</td>\n",
       "    </tr>\n",
       "    <tr>\n",
       "      <th>41</th>\n",
       "      <td>d072a50c18ba23d0cefae3db2fe669b2</td>\n",
       "      <td>Dressing for Success</td>\n",
       "      <td>10048</td>\n",
       "    </tr>\n",
       "    <tr>\n",
       "      <th>42</th>\n",
       "      <td>052bd3acd6b73b1c05401858aed4a7a9</td>\n",
       "      <td>Looking Good Feeling  Good                    ...</td>\n",
       "      <td>5527</td>\n",
       "    </tr>\n",
       "    <tr>\n",
       "      <th>45</th>\n",
       "      <td>59d0fe7fe2dab05a943c085c4cf2d90f</td>\n",
       "      <td>We Need to Move It! Move It!</td>\n",
       "      <td>13036</td>\n",
       "    </tr>\n",
       "    <tr>\n",
       "      <th>46</th>\n",
       "      <td>4affc3dc42128e9c46d0cd92b09f7592</td>\n",
       "      <td>Clothing Bodies, Hearts, and Souls</td>\n",
       "      <td>9205</td>\n",
       "    </tr>\n",
       "    <tr>\n",
       "      <th>47</th>\n",
       "      <td>b180dc31d3d103ab4a32e7e83fba5468</td>\n",
       "      <td>Walk a Mile in MY Shoes</td>\n",
       "      <td>11125</td>\n",
       "    </tr>\n",
       "    <tr>\n",
       "      <th>48</th>\n",
       "      <td>c4155754bc3e47b73e185e84fe831be4</td>\n",
       "      <td>Warm Bodies and Happy Kids</td>\n",
       "      <td>13025</td>\n",
       "    </tr>\n",
       "    <tr>\n",
       "      <th>49</th>\n",
       "      <td>5c8ede07e8ceca30906b37e0ea584419</td>\n",
       "      <td>Reading: Travel the World! No gas required!</td>\n",
       "      <td>1954</td>\n",
       "    </tr>\n",
       "    <tr>\n",
       "      <th>55</th>\n",
       "      <td>262ca695328f721c1cc263c672a6c874</td>\n",
       "      <td>Hear ye, Hear ye!</td>\n",
       "      <td>9176</td>\n",
       "    </tr>\n",
       "    <tr>\n",
       "      <th>56</th>\n",
       "      <td>d3793af01cee96bbf8a2696cf6cbbb47</td>\n",
       "      <td>Tablets to the Rescue!</td>\n",
       "      <td>12677</td>\n",
       "    </tr>\n",
       "    <tr>\n",
       "      <th>57</th>\n",
       "      <td>f979273904ddc3dc3d1a3ed7d2e65368</td>\n",
       "      <td>Shoes Shoes We All Need Them</td>\n",
       "      <td>12932</td>\n",
       "    </tr>\n",
       "    <tr>\n",
       "      <th>58</th>\n",
       "      <td>5e93e6b8b7dd761e42989da07ee8b873</td>\n",
       "      <td>Kick It for Health</td>\n",
       "      <td>11903</td>\n",
       "    </tr>\n",
       "    <tr>\n",
       "      <th>59</th>\n",
       "      <td>0cdc8f66503d94b44846ff74802ab052</td>\n",
       "      <td>Learning By Touching</td>\n",
       "      <td>4556</td>\n",
       "    </tr>\n",
       "    <tr>\n",
       "      <th>...</th>\n",
       "      <td>...</td>\n",
       "      <td>...</td>\n",
       "      <td>...</td>\n",
       "    </tr>\n",
       "    <tr>\n",
       "      <th>47263</th>\n",
       "      <td>f22af6f0b0f3e3175006ee7ad909dfae</td>\n",
       "      <td>Equipping Our Class to Equip Our Brains!</td>\n",
       "      <td>10817</td>\n",
       "    </tr>\n",
       "    <tr>\n",
       "      <th>47264</th>\n",
       "      <td>213500f6fcaffd1de85c96e5dd51f38a</td>\n",
       "      <td>Let's Breakout for the Science STAAR!</td>\n",
       "      <td>4629</td>\n",
       "    </tr>\n",
       "    <tr>\n",
       "      <th>47267</th>\n",
       "      <td>39d989ead74e59b9865df16169d0d0dd</td>\n",
       "      <td>Big Technology for Little Hands!</td>\n",
       "      <td>12483</td>\n",
       "    </tr>\n",
       "    <tr>\n",
       "      <th>47268</th>\n",
       "      <td>2bc5f39f53fc09efa72169226ab689d7</td>\n",
       "      <td>My Kids Also Deserve Santa Clause!</td>\n",
       "      <td>7784</td>\n",
       "    </tr>\n",
       "    <tr>\n",
       "      <th>47270</th>\n",
       "      <td>8be3082d5fedcb3f1dc601272c5ef716</td>\n",
       "      <td>I'll Code, I'll Program, and I'll Blow Your M...</td>\n",
       "      <td>11044</td>\n",
       "    </tr>\n",
       "    <tr>\n",
       "      <th>47271</th>\n",
       "      <td>4d36390316979234bfd66482ba515b7f</td>\n",
       "      <td>My Students CAN...Build, Create, and CODE</td>\n",
       "      <td>10469</td>\n",
       "    </tr>\n",
       "    <tr>\n",
       "      <th>47272</th>\n",
       "      <td>b8097bb60aa6826aec1a53be7849c4c0</td>\n",
       "      <td>The Active and Flexible Classroom</td>\n",
       "      <td>2191</td>\n",
       "    </tr>\n",
       "    <tr>\n",
       "      <th>47278</th>\n",
       "      <td>4def4a689d98b253b07d270b3819cad0</td>\n",
       "      <td>Wacom and We Conquer</td>\n",
       "      <td>8864</td>\n",
       "    </tr>\n",
       "    <tr>\n",
       "      <th>47279</th>\n",
       "      <td>7128411fe5d3e975b54bf5c6baf53863</td>\n",
       "      <td>Reading Is Our Ticket To Everywhere!</td>\n",
       "      <td>10986</td>\n",
       "    </tr>\n",
       "    <tr>\n",
       "      <th>47280</th>\n",
       "      <td>aa04a72cc850dad025dc25036b2739b6</td>\n",
       "      <td>Turn Down For What? Speakers Needed!</td>\n",
       "      <td>215</td>\n",
       "    </tr>\n",
       "    <tr>\n",
       "      <th>47295</th>\n",
       "      <td>1dc6c06bab0d9d3e3e6e1d13050a3be5</td>\n",
       "      <td>Imagination and Creativity Using Robotics!</td>\n",
       "      <td>11622</td>\n",
       "    </tr>\n",
       "    <tr>\n",
       "      <th>47296</th>\n",
       "      <td>bb41ca94f8136fdc2114d0542a878315</td>\n",
       "      <td>Set My Classroom on Fire!</td>\n",
       "      <td>10462</td>\n",
       "    </tr>\n",
       "    <tr>\n",
       "      <th>47297</th>\n",
       "      <td>a6de2269b1d701b610d5d3e4309dfbe7</td>\n",
       "      <td>Flexible Seating for Fabulous Fourth Graders</td>\n",
       "      <td>6257</td>\n",
       "    </tr>\n",
       "    <tr>\n",
       "      <th>47299</th>\n",
       "      <td>f016d081e9cac23e0edc9f4d73cfb238</td>\n",
       "      <td>Students Ready To Take On The World</td>\n",
       "      <td>7593</td>\n",
       "    </tr>\n",
       "    <tr>\n",
       "      <th>47301</th>\n",
       "      <td>241a64b015255fc49e8156902c343dab</td>\n",
       "      <td>Listen to Your \"Art\"!</td>\n",
       "      <td>13561</td>\n",
       "    </tr>\n",
       "    <tr>\n",
       "      <th>47302</th>\n",
       "      <td>2313f786366d50c47ebd2289bd23bfda</td>\n",
       "      <td>Shoot for the Moon</td>\n",
       "      <td>12548</td>\n",
       "    </tr>\n",
       "    <tr>\n",
       "      <th>47303</th>\n",
       "      <td>107c29a063addd46f6774c7d2e9e5453</td>\n",
       "      <td>Technology Access for All</td>\n",
       "      <td>5178</td>\n",
       "    </tr>\n",
       "    <tr>\n",
       "      <th>47306</th>\n",
       "      <td>2ce6df5d20a37c5673bb6e141ce339da</td>\n",
       "      <td>Quality Education Is My Commitment</td>\n",
       "      <td>2681</td>\n",
       "    </tr>\n",
       "    <tr>\n",
       "      <th>47311</th>\n",
       "      <td>fb0f6be4bdf12974767a6d60879e85ad</td>\n",
       "      <td>Hurricane Harvey Can't Ruin Our School Year!</td>\n",
       "      <td>4501</td>\n",
       "    </tr>\n",
       "    <tr>\n",
       "      <th>47314</th>\n",
       "      <td>ac1b19f5f2a18c39e452c5a2a4f50811</td>\n",
       "      <td>Hands-On Percussion!</td>\n",
       "      <td>2050</td>\n",
       "    </tr>\n",
       "    <tr>\n",
       "      <th>47320</th>\n",
       "      <td>00bef2d56e0d281b4d85ac3a7c396135</td>\n",
       "      <td>Cozy Up to a Good Book!</td>\n",
       "      <td>1395</td>\n",
       "    </tr>\n",
       "    <tr>\n",
       "      <th>47327</th>\n",
       "      <td>3ca9a4edf5854f95d8600adaee373a2d</td>\n",
       "      <td>Capturing Memories of a Lifetime!</td>\n",
       "      <td>12921</td>\n",
       "    </tr>\n",
       "    <tr>\n",
       "      <th>47328</th>\n",
       "      <td>533ae4d373324318c462efe0e882d766</td>\n",
       "      <td>Home Advantage</td>\n",
       "      <td>12852</td>\n",
       "    </tr>\n",
       "    <tr>\n",
       "      <th>47329</th>\n",
       "      <td>512285aa0339e29f179f6c4ad2999d15</td>\n",
       "      <td>Take a Step Towards A Healthier Lifestyle!</td>\n",
       "      <td>11137</td>\n",
       "    </tr>\n",
       "    <tr>\n",
       "      <th>47330</th>\n",
       "      <td>3bd6151d4cd013200bbbdb13e87c5999</td>\n",
       "      <td>The Mariachi Project</td>\n",
       "      <td>499</td>\n",
       "    </tr>\n",
       "    <tr>\n",
       "      <th>47341</th>\n",
       "      <td>436f3850539e68901ddf85f4eb563e22</td>\n",
       "      <td>Little Tiny Computer Engineers!</td>\n",
       "      <td>12367</td>\n",
       "    </tr>\n",
       "    <tr>\n",
       "      <th>47342</th>\n",
       "      <td>5addce4f60b427d7e54e9e5268ef2410</td>\n",
       "      <td>Writers! Authors! Poets! Journalists!</td>\n",
       "      <td>9631</td>\n",
       "    </tr>\n",
       "    <tr>\n",
       "      <th>47343</th>\n",
       "      <td>878fcf2af58a3715b8bf7cdca831df7d</td>\n",
       "      <td>Just Chrome Around the Science Classroom in Mi...</td>\n",
       "      <td>11742</td>\n",
       "    </tr>\n",
       "    <tr>\n",
       "      <th>47344</th>\n",
       "      <td>d0f37f462f7474587bf38ae0bcf54e47</td>\n",
       "      <td>The World Can Be at Their Fingertips!</td>\n",
       "      <td>7255</td>\n",
       "    </tr>\n",
       "    <tr>\n",
       "      <th>47346</th>\n",
       "      <td>63f594077bfab958c5d5a5a1ab31ca7e</td>\n",
       "      <td>Inspiring Tomorrow's Thinkers With Technology ...</td>\n",
       "      <td>7210</td>\n",
       "    </tr>\n",
       "  </tbody>\n",
       "</table>\n",
       "<p>13658 rows × 3 columns</p>\n",
       "</div>"
      ],
      "text/plain": [
       "                             Project ID  \\\n",
       "0      7080d135d3217a181bed6aedc7cd7d31   \n",
       "1      c2b17952017f359a45ee57e369900169   \n",
       "8      e533884c954acf24d7c7247b8d6f74ed   \n",
       "10     62cb80fda87014179a112feb6ec64a15   \n",
       "12     1b2f161fcd57e9675e0bde63745e0c1a   \n",
       "15     2d0e9442545a20233ed2bcb504cdf603   \n",
       "16     8fdba59c7b41322e6ae73bc2bf863565   \n",
       "21     0f755cd5bb96891e79c570e380f42919   \n",
       "23     e9b7ad45ae8f0fd9346637b988188a56   \n",
       "26     3b75ae71ae283efa8bcb550328f5a5f3   \n",
       "29     fe11a1c90d7e02e12b4d5648d00d75db   \n",
       "30     eb7d6162b71ab364b5283a9ab22ab63f   \n",
       "31     ea5dde5346f9de85335c40f0423351ba   \n",
       "32     8c556d51ee96a45b8728651aab1b983b   \n",
       "35     d24cf338c12d2e77131f12cdf3164835   \n",
       "36     0c94126bd3b228273bb3ef1090a9f8e8   \n",
       "37     acaa44205de4a8c9b37dfefe6948e395   \n",
       "38     e1c2de8ad049a6c0b96d260cf8af0325   \n",
       "41     d072a50c18ba23d0cefae3db2fe669b2   \n",
       "42     052bd3acd6b73b1c05401858aed4a7a9   \n",
       "45     59d0fe7fe2dab05a943c085c4cf2d90f   \n",
       "46     4affc3dc42128e9c46d0cd92b09f7592   \n",
       "47     b180dc31d3d103ab4a32e7e83fba5468   \n",
       "48     c4155754bc3e47b73e185e84fe831be4   \n",
       "49     5c8ede07e8ceca30906b37e0ea584419   \n",
       "55     262ca695328f721c1cc263c672a6c874   \n",
       "56     d3793af01cee96bbf8a2696cf6cbbb47   \n",
       "57     f979273904ddc3dc3d1a3ed7d2e65368   \n",
       "58     5e93e6b8b7dd761e42989da07ee8b873   \n",
       "59     0cdc8f66503d94b44846ff74802ab052   \n",
       "...                                 ...   \n",
       "47263  f22af6f0b0f3e3175006ee7ad909dfae   \n",
       "47264  213500f6fcaffd1de85c96e5dd51f38a   \n",
       "47267  39d989ead74e59b9865df16169d0d0dd   \n",
       "47268  2bc5f39f53fc09efa72169226ab689d7   \n",
       "47270  8be3082d5fedcb3f1dc601272c5ef716   \n",
       "47271  4d36390316979234bfd66482ba515b7f   \n",
       "47272  b8097bb60aa6826aec1a53be7849c4c0   \n",
       "47278  4def4a689d98b253b07d270b3819cad0   \n",
       "47279  7128411fe5d3e975b54bf5c6baf53863   \n",
       "47280  aa04a72cc850dad025dc25036b2739b6   \n",
       "47295  1dc6c06bab0d9d3e3e6e1d13050a3be5   \n",
       "47296  bb41ca94f8136fdc2114d0542a878315   \n",
       "47297  a6de2269b1d701b610d5d3e4309dfbe7   \n",
       "47299  f016d081e9cac23e0edc9f4d73cfb238   \n",
       "47301  241a64b015255fc49e8156902c343dab   \n",
       "47302  2313f786366d50c47ebd2289bd23bfda   \n",
       "47303  107c29a063addd46f6774c7d2e9e5453   \n",
       "47306  2ce6df5d20a37c5673bb6e141ce339da   \n",
       "47311  fb0f6be4bdf12974767a6d60879e85ad   \n",
       "47314  ac1b19f5f2a18c39e452c5a2a4f50811   \n",
       "47320  00bef2d56e0d281b4d85ac3a7c396135   \n",
       "47327  3ca9a4edf5854f95d8600adaee373a2d   \n",
       "47328  533ae4d373324318c462efe0e882d766   \n",
       "47329  512285aa0339e29f179f6c4ad2999d15   \n",
       "47330  3bd6151d4cd013200bbbdb13e87c5999   \n",
       "47341  436f3850539e68901ddf85f4eb563e22   \n",
       "47342  5addce4f60b427d7e54e9e5268ef2410   \n",
       "47343  878fcf2af58a3715b8bf7cdca831df7d   \n",
       "47344  d0f37f462f7474587bf38ae0bcf54e47   \n",
       "47346  63f594077bfab958c5d5a5a1ab31ca7e   \n",
       "\n",
       "                                           Project Title  proj_id  \n",
       "0          The Art Of Imagination-Using Books to Inspire    12862  \n",
       "1                                 Girls Building Worlds      1605  \n",
       "8                     Let's Read Mentor Texts in Kinder!     7610  \n",
       "10                                   Reading Made Magic!     7198  \n",
       "12        A Greyhound and a Groundhog Visit the Art Room     5718  \n",
       "15                     How Do You Say That Word Teacher?    10997  \n",
       "16     Thesaurus' Expand Vocabulary For English Langu...     2509  \n",
       "21             We are CLOTHED with Dignity and Strength!     6250  \n",
       "23               Don't Judge a Student by Their Clothing     5181  \n",
       "26          Clothes Can Make the Difference in Our Lives     5595  \n",
       "29                              Looking Good for Success     9424  \n",
       "30                              Looking Good for Success     8763  \n",
       "31                    Clink! Snap! Keep it All Together!    12395  \n",
       "32                     Light It Up and Watch Them Learn!     4688  \n",
       "35                              Looking Good for Success    10977  \n",
       "36                           Rockin' With Our Keyboards!    10235  \n",
       "37                                 Keep Calm and Read On    10511  \n",
       "38                             Looking Good Feeling Good     5591  \n",
       "41                                  Dressing for Success    10048  \n",
       "42     Looking Good Feeling  Good                    ...     5527  \n",
       "45                          We Need to Move It! Move It!    13036  \n",
       "46                    Clothing Bodies, Hearts, and Souls     9205  \n",
       "47                               Walk a Mile in MY Shoes    11125  \n",
       "48                            Warm Bodies and Happy Kids    13025  \n",
       "49          Reading: Travel the World! No gas required!      1954  \n",
       "55                                     Hear ye, Hear ye!     9176  \n",
       "56                                Tablets to the Rescue!    12677  \n",
       "57                        Shoes Shoes We All Need Them      12932  \n",
       "58                                    Kick It for Health    11903  \n",
       "59                                  Learning By Touching     4556  \n",
       "...                                                  ...      ...  \n",
       "47263          Equipping Our Class to Equip Our Brains!     10817  \n",
       "47264              Let's Breakout for the Science STAAR!     4629  \n",
       "47267                   Big Technology for Little Hands!    12483  \n",
       "47268                 My Kids Also Deserve Santa Clause!     7784  \n",
       "47270   I'll Code, I'll Program, and I'll Blow Your M...    11044  \n",
       "47271         My Students CAN...Build, Create, and CODE     10469  \n",
       "47272                  The Active and Flexible Classroom     2191  \n",
       "47278                               Wacom and We Conquer     8864  \n",
       "47279               Reading Is Our Ticket To Everywhere!    10986  \n",
       "47280               Turn Down For What? Speakers Needed!      215  \n",
       "47295         Imagination and Creativity Using Robotics!    11622  \n",
       "47296                          Set My Classroom on Fire!    10462  \n",
       "47297       Flexible Seating for Fabulous Fourth Graders     6257  \n",
       "47299                Students Ready To Take On The World     7593  \n",
       "47301                              Listen to Your \"Art\"!    13561  \n",
       "47302                                 Shoot for the Moon    12548  \n",
       "47303                          Technology Access for All     5178  \n",
       "47306                 Quality Education Is My Commitment     2681  \n",
       "47311       Hurricane Harvey Can't Ruin Our School Year!     4501  \n",
       "47314                               Hands-On Percussion!     2050  \n",
       "47320                            Cozy Up to a Good Book!     1395  \n",
       "47327                  Capturing Memories of a Lifetime!    12921  \n",
       "47328                                     Home Advantage    12852  \n",
       "47329         Take a Step Towards A Healthier Lifestyle!    11137  \n",
       "47330                               The Mariachi Project      499  \n",
       "47341                    Little Tiny Computer Engineers!    12367  \n",
       "47342              Writers! Authors! Poets! Journalists!     9631  \n",
       "47343  Just Chrome Around the Science Classroom in Mi...    11742  \n",
       "47344              The World Can Be at Their Fingertips!     7255  \n",
       "47346  Inspiring Tomorrow's Thinkers With Technology ...     7210  \n",
       "\n",
       "[13658 rows x 3 columns]"
      ]
     },
     "execution_count": 155,
     "metadata": {},
     "output_type": "execute_result"
    }
   ],
   "source": [
    "Past_Projects"
   ]
  },
  {
   "cell_type": "code",
   "execution_count": 248,
   "metadata": {},
   "outputs": [
    {
     "data": {
      "text/html": [
       "<div>\n",
       "<style scoped>\n",
       "    .dataframe tbody tr th:only-of-type {\n",
       "        vertical-align: middle;\n",
       "    }\n",
       "\n",
       "    .dataframe tbody tr th {\n",
       "        vertical-align: top;\n",
       "    }\n",
       "\n",
       "    .dataframe thead th {\n",
       "        text-align: right;\n",
       "    }\n",
       "</style>\n",
       "<table border=\"1\" class=\"dataframe\">\n",
       "  <thead>\n",
       "    <tr style=\"text-align: right;\">\n",
       "      <th></th>\n",
       "      <th>Project ID</th>\n",
       "      <th>Project Title</th>\n",
       "      <th>proj_id</th>\n",
       "    </tr>\n",
       "  </thead>\n",
       "  <tbody>\n",
       "    <tr>\n",
       "      <th>47344</th>\n",
       "      <td>d0f37f462f7474587bf38ae0bcf54e47</td>\n",
       "      <td>The World Can Be at Their Fingertips!</td>\n",
       "      <td>7255</td>\n",
       "    </tr>\n",
       "  </tbody>\n",
       "</table>\n",
       "</div>"
      ],
      "text/plain": [
       "                             Project ID  \\\n",
       "47344  d0f37f462f7474587bf38ae0bcf54e47   \n",
       "\n",
       "                               Project Title  proj_id  \n",
       "47344  The World Can Be at Their Fingertips!     7255  "
      ]
     },
     "execution_count": 248,
     "metadata": {},
     "output_type": "execute_result"
    }
   ],
   "source": [
    "Past_Projects[Past_Projects[\"Project ID\"] == \n",
    "              \"d0f37f462f7474587bf38ae0bcf54e47\"]"
   ]
  },
  {
   "cell_type": "code",
   "execution_count": 266,
   "metadata": {},
   "outputs": [
    {
     "data": {
      "text/html": [
       "<div>\n",
       "<style scoped>\n",
       "    .dataframe tbody tr th:only-of-type {\n",
       "        vertical-align: middle;\n",
       "    }\n",
       "\n",
       "    .dataframe tbody tr th {\n",
       "        vertical-align: top;\n",
       "    }\n",
       "\n",
       "    .dataframe thead th {\n",
       "        text-align: right;\n",
       "    }\n",
       "</style>\n",
       "<table border=\"1\" class=\"dataframe\">\n",
       "  <thead>\n",
       "    <tr style=\"text-align: right;\">\n",
       "      <th></th>\n",
       "      <th>Project Cost</th>\n",
       "      <th>Project Title</th>\n",
       "      <th>Project Resource Category</th>\n",
       "      <th>School City</th>\n",
       "      <th>School State</th>\n",
       "    </tr>\n",
       "  </thead>\n",
       "  <tbody>\n",
       "    <tr>\n",
       "      <th>1106826</th>\n",
       "      <td>437.78</td>\n",
       "      <td>The World Can Be at Their Fingertips!</td>\n",
       "      <td>Computers &amp; Tablets</td>\n",
       "      <td>Eddy</td>\n",
       "      <td>Texas</td>\n",
       "    </tr>\n",
       "  </tbody>\n",
       "</table>\n",
       "</div>"
      ],
      "text/plain": [
       "         Project Cost                          Project Title  \\\n",
       "1106826        437.78  The World Can Be at Their Fingertips!   \n",
       "\n",
       "        Project Resource Category School City School State  \n",
       "1106826       Computers & Tablets        Eddy        Texas  "
      ]
     },
     "execution_count": 266,
     "metadata": {},
     "output_type": "execute_result"
    }
   ],
   "source": [
    "projects_local[(projects_local[\"Project ID\"] == \"d0f37f462f7474587bf38ae0bcf54e47\")][[\"Project Cost\", \"Project Title\", \"Project Resource Category\", \"School City\", \"School State\"]]"
   ]
  },
  {
   "cell_type": "code",
   "execution_count": 249,
   "metadata": {},
   "outputs": [
    {
     "data": {
      "text/html": [
       "<div>\n",
       "<style scoped>\n",
       "    .dataframe tbody tr th:only-of-type {\n",
       "        vertical-align: middle;\n",
       "    }\n",
       "\n",
       "    .dataframe tbody tr th {\n",
       "        vertical-align: top;\n",
       "    }\n",
       "\n",
       "    .dataframe thead th {\n",
       "        text-align: right;\n",
       "    }\n",
       "</style>\n",
       "<table border=\"1\" class=\"dataframe\">\n",
       "  <thead>\n",
       "    <tr style=\"text-align: right;\">\n",
       "      <th></th>\n",
       "      <th>donor_id</th>\n",
       "      <th>proj_id</th>\n",
       "      <th>interaction_score_2</th>\n",
       "    </tr>\n",
       "  </thead>\n",
       "  <tbody>\n",
       "    <tr>\n",
       "      <th>47344</th>\n",
       "      <td>1660</td>\n",
       "      <td>7255</td>\n",
       "      <td>4.605170</td>\n",
       "    </tr>\n",
       "    <tr>\n",
       "      <th>47345</th>\n",
       "      <td>5949</td>\n",
       "      <td>7255</td>\n",
       "      <td>3.912023</td>\n",
       "    </tr>\n",
       "  </tbody>\n",
       "</table>\n",
       "</div>"
      ],
      "text/plain": [
       "       donor_id  proj_id  interaction_score_2\n",
       "47344      1660     7255             4.605170\n",
       "47345      5949     7255             3.912023"
      ]
     },
     "execution_count": 249,
     "metadata": {},
     "output_type": "execute_result"
    }
   ],
   "source": [
    "## Prediction with a sample project id\n",
    "idd = proj_map[\"d0f37f462f7474587bf38ae0bcf54e47\"]\n",
    "donor_ratings = interactions[interactions[\"proj_id\"] == idd][[\"donor_id\",\"proj_id\", \n",
    "                                                              \"interaction_score_2\"]]\n",
    "## donors who donated to sample project\n",
    "donor_ratings"
   ]
  },
  {
   "cell_type": "code",
   "execution_count": 268,
   "metadata": {},
   "outputs": [],
   "source": [
    "## predict interaction score with model\n",
    "donor_ratings[\"predicted_amt\"] = donor_ratings.apply(\n",
    "    lambda x: predict_score(x[\"donor_id\"], idd), axis =1)"
   ]
  },
  {
   "cell_type": "code",
   "execution_count": 269,
   "metadata": {},
   "outputs": [
    {
     "data": {
      "text/html": [
       "<div>\n",
       "<style scoped>\n",
       "    .dataframe tbody tr th:only-of-type {\n",
       "        vertical-align: middle;\n",
       "    }\n",
       "\n",
       "    .dataframe tbody tr th {\n",
       "        vertical-align: top;\n",
       "    }\n",
       "\n",
       "    .dataframe thead th {\n",
       "        text-align: right;\n",
       "    }\n",
       "</style>\n",
       "<table border=\"1\" class=\"dataframe\">\n",
       "  <thead>\n",
       "    <tr style=\"text-align: right;\">\n",
       "      <th></th>\n",
       "      <th>donor_id</th>\n",
       "      <th>proj_id</th>\n",
       "      <th>interaction_score_2</th>\n",
       "      <th>predicted_amt</th>\n",
       "    </tr>\n",
       "  </thead>\n",
       "  <tbody>\n",
       "    <tr>\n",
       "      <th>47344</th>\n",
       "      <td>1660</td>\n",
       "      <td>7255</td>\n",
       "      <td>4.605170</td>\n",
       "      <td>4.675552</td>\n",
       "    </tr>\n",
       "    <tr>\n",
       "      <th>47345</th>\n",
       "      <td>5949</td>\n",
       "      <td>7255</td>\n",
       "      <td>3.912023</td>\n",
       "      <td>4.838309</td>\n",
       "    </tr>\n",
       "  </tbody>\n",
       "</table>\n",
       "</div>"
      ],
      "text/plain": [
       "       donor_id  proj_id  interaction_score_2  predicted_amt\n",
       "47344      1660     7255             4.605170       4.675552\n",
       "47345      5949     7255             3.912023       4.838309"
      ]
     },
     "execution_count": 269,
     "metadata": {},
     "output_type": "execute_result"
    }
   ],
   "source": [
    "donor_ratings"
   ]
  },
  {
   "cell_type": "code",
   "execution_count": 270,
   "metadata": {},
   "outputs": [],
   "source": [
    "## list of donors who haven't donated to sample project\n",
    "recommendations = interactions[interactions[\"donor_id\"].isin(\n",
    "    donor_ratings[\"donor_id\"]) == False][[\"donor_id\"]].drop_duplicates()\n",
    "## predict donation amount for sample project\n",
    "recommendations[\"interaction_score_2\"] = recommendations.apply(\n",
    "     lambda x: predict_score(x[\"donor_id\"], idd), axis=1)\n",
    "recommendations[\"predicted_amt\"] = np.exp(recommendations[\"interaction_score_2\"])\n"
   ]
  },
  {
   "cell_type": "code",
   "execution_count": 271,
   "metadata": {},
   "outputs": [
    {
     "data": {
      "text/html": [
       "<div>\n",
       "<style scoped>\n",
       "    .dataframe tbody tr th:only-of-type {\n",
       "        vertical-align: middle;\n",
       "    }\n",
       "\n",
       "    .dataframe tbody tr th {\n",
       "        vertical-align: top;\n",
       "    }\n",
       "\n",
       "    .dataframe thead th {\n",
       "        text-align: right;\n",
       "    }\n",
       "</style>\n",
       "<table border=\"1\" class=\"dataframe\">\n",
       "  <thead>\n",
       "    <tr style=\"text-align: right;\">\n",
       "      <th></th>\n",
       "      <th>donor_id</th>\n",
       "      <th>interaction_score_2</th>\n",
       "      <th>predicted_amt</th>\n",
       "      <th>Donor ID</th>\n",
       "      <th>Donor City</th>\n",
       "    </tr>\n",
       "  </thead>\n",
       "  <tbody>\n",
       "    <tr>\n",
       "      <th>0</th>\n",
       "      <td>349</td>\n",
       "      <td>6.257519</td>\n",
       "      <td>521.922322</td>\n",
       "      <td>bb74eff0f754d8a3fcb019128b7ff49e</td>\n",
       "      <td>Houston</td>\n",
       "    </tr>\n",
       "    <tr>\n",
       "      <th>1</th>\n",
       "      <td>13</td>\n",
       "      <td>6.240611</td>\n",
       "      <td>513.172002</td>\n",
       "      <td>f80c65bd6d263dd5e50428c962fd0531</td>\n",
       "      <td>Arlington</td>\n",
       "    </tr>\n",
       "    <tr>\n",
       "      <th>2</th>\n",
       "      <td>62</td>\n",
       "      <td>6.147399</td>\n",
       "      <td>467.499813</td>\n",
       "      <td>7947eeed75e2a468692cf6f5737de5b8</td>\n",
       "      <td>Dallas</td>\n",
       "    </tr>\n",
       "    <tr>\n",
       "      <th>3</th>\n",
       "      <td>374</td>\n",
       "      <td>6.060629</td>\n",
       "      <td>428.644923</td>\n",
       "      <td>6e2ba365b69b4b3e94487b41caf9e713</td>\n",
       "      <td>Milwaukee</td>\n",
       "    </tr>\n",
       "    <tr>\n",
       "      <th>4</th>\n",
       "      <td>4</td>\n",
       "      <td>6.006552</td>\n",
       "      <td>406.080633</td>\n",
       "      <td>d006be7223c048ae8b2bdedd7dd2b4db</td>\n",
       "      <td>Tyngsboro</td>\n",
       "    </tr>\n",
       "    <tr>\n",
       "      <th>5</th>\n",
       "      <td>364</td>\n",
       "      <td>5.979345</td>\n",
       "      <td>395.181567</td>\n",
       "      <td>a737d416700e3544eb096449b2e57991</td>\n",
       "      <td>Houston</td>\n",
       "    </tr>\n",
       "    <tr>\n",
       "      <th>6</th>\n",
       "      <td>81</td>\n",
       "      <td>5.961853</td>\n",
       "      <td>388.329042</td>\n",
       "      <td>52c8d5a2aaf69d87ff2a1d8ec0f09f94</td>\n",
       "      <td>Marion</td>\n",
       "    </tr>\n",
       "    <tr>\n",
       "      <th>7</th>\n",
       "      <td>389</td>\n",
       "      <td>5.959737</td>\n",
       "      <td>387.508313</td>\n",
       "      <td>121f1b2700360ddd4e200933d6a3ee11</td>\n",
       "      <td>Key West</td>\n",
       "    </tr>\n",
       "    <tr>\n",
       "      <th>8</th>\n",
       "      <td>202</td>\n",
       "      <td>5.955346</td>\n",
       "      <td>385.810419</td>\n",
       "      <td>e7003536c1799ca8b26cc86813c674c9</td>\n",
       "      <td>Dallas</td>\n",
       "    </tr>\n",
       "    <tr>\n",
       "      <th>9</th>\n",
       "      <td>497</td>\n",
       "      <td>5.951912</td>\n",
       "      <td>384.487749</td>\n",
       "      <td>dbc6d7bda51e6e07675ad73bc8e2d7dd</td>\n",
       "      <td>Dallas</td>\n",
       "    </tr>\n",
       "  </tbody>\n",
       "</table>\n",
       "</div>"
      ],
      "text/plain": [
       "   donor_id  interaction_score_2  predicted_amt  \\\n",
       "0       349             6.257519     521.922322   \n",
       "1        13             6.240611     513.172002   \n",
       "2        62             6.147399     467.499813   \n",
       "3       374             6.060629     428.644923   \n",
       "4         4             6.006552     406.080633   \n",
       "5       364             5.979345     395.181567   \n",
       "6        81             5.961853     388.329042   \n",
       "7       389             5.959737     387.508313   \n",
       "8       202             5.955346     385.810419   \n",
       "9       497             5.951912     384.487749   \n",
       "\n",
       "                           Donor ID Donor City  \n",
       "0  bb74eff0f754d8a3fcb019128b7ff49e    Houston  \n",
       "1  f80c65bd6d263dd5e50428c962fd0531  Arlington  \n",
       "2  7947eeed75e2a468692cf6f5737de5b8     Dallas  \n",
       "3  6e2ba365b69b4b3e94487b41caf9e713  Milwaukee  \n",
       "4  d006be7223c048ae8b2bdedd7dd2b4db  Tyngsboro  \n",
       "5  a737d416700e3544eb096449b2e57991    Houston  \n",
       "6  52c8d5a2aaf69d87ff2a1d8ec0f09f94     Marion  \n",
       "7  121f1b2700360ddd4e200933d6a3ee11   Key West  \n",
       "8  e7003536c1799ca8b26cc86813c674c9     Dallas  \n",
       "9  dbc6d7bda51e6e07675ad73bc8e2d7dd     Dallas  "
      ]
     },
     "execution_count": 271,
     "metadata": {},
     "output_type": "execute_result"
    }
   ],
   "source": [
    "## sort recommended donor ids and merge with Past_Donors df\n",
    "recommendations.sort_values(by = \"predicted_amt\", ascending = False).merge(\n",
    "    Past_Donors, on = \"donor_id\", how = \"inner\", suffixes = [\"_u\",\"_m\"]).head(10)"
   ]
  },
  {
   "cell_type": "markdown",
   "metadata": {},
   "source": [
    "### Summary"
   ]
  },
  {
   "cell_type": "markdown",
   "metadata": {},
   "source": [
    "A recommending system based on a collaborative filtering approach using neural network is built. For a given project, a list of existing donors are suggested. This approach works by identifying donors who have similar donation behavior as donors who have already donated to a given project. As such, the accuracy will improve for donors who have made donations to multiple projects. Other donor and projects features can be added to build up a more complex predictive model "
   ]
  },
  {
   "cell_type": "code",
   "execution_count": null,
   "metadata": {},
   "outputs": [],
   "source": []
  }
 ],
 "metadata": {
  "kernelspec": {
   "display_name": "Python 3",
   "language": "python",
   "name": "python3"
  },
  "language_info": {
   "codemirror_mode": {
    "name": "ipython",
    "version": 3
   },
   "file_extension": ".py",
   "mimetype": "text/x-python",
   "name": "python",
   "nbconvert_exporter": "python",
   "pygments_lexer": "ipython3",
   "version": "3.6.5"
  },
  "toc": {
   "base_numbering": 1,
   "nav_menu": {
    "height": "137.008px",
    "width": "226.013px"
   },
   "number_sections": true,
   "sideBar": true,
   "skip_h1_title": true,
   "title_cell": "Table of Contents",
   "title_sidebar": "Contents",
   "toc_cell": true,
   "toc_position": {
    "height": "204.08px",
    "left": "838.64px",
    "top": "110.322px",
    "width": "165px"
   },
   "toc_section_display": true,
   "toc_window_display": true
  }
 },
 "nbformat": 4,
 "nbformat_minor": 2
}
